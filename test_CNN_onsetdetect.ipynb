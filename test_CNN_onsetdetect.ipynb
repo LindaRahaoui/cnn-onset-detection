{
  "cells": [
    {
      "cell_type": "code",
      "execution_count": 1,
      "metadata": {
        "colab": {
          "base_uri": "https://localhost:8080/"
        },
        "id": "wK6m01b2pN1H",
        "outputId": "4330ea64-d755-4835-cbaa-bacd4baf057d"
      },
      "outputs": [
        {
          "name": "stdout",
          "output_type": "stream",
          "text": [
            "Drive already mounted at /content/drive; to attempt to forcibly remount, call drive.mount(\"/content/drive\", force_remount=True).\n"
          ]
        }
      ],
      "source": [
        "from google.colab import drive\n",
        "import shutil\n",
        "import os\n",
        "drive.mount('/content/drive')"
      ]
    },
    {
      "cell_type": "code",
      "execution_count": 2,
      "metadata": {
        "colab": {
          "base_uri": "https://localhost:8080/"
        },
        "collapsed": true,
        "id": "M8S7T02jLZD6",
        "outputId": "43f12e49-9f34-426f-ec74-dc119b337de0"
      },
      "outputs": [
        {
          "name": "stdout",
          "output_type": "stream",
          "text": [
            "fatal: destination path 'cnn-onset-detection' already exists and is not an empty directory.\n"
          ]
        }
      ],
      "source": [
        "# prompt: git clone\n",
        "\n",
        "!git clone https://github.com/LindaRahaoui/cnn-onset-detection.git\n"
      ]
    },
    {
      "cell_type": "code",
      "execution_count": 4,
      "metadata": {
        "colab": {
          "base_uri": "https://localhost:8080/"
        },
        "id": "gslhQ4t-TSaP",
        "outputId": "392cc3ab-47ad-4b12-c3cf-435852c38afc"
      },
      "outputs": [
        {
          "name": "stdout",
          "output_type": "stream",
          "text": [
            "/content/cnn-onset-detection\n"
          ]
        }
      ],
      "source": [
        "%cd /cnnsteph/cnn-onset-detection"
      ]
    },
    {
      "cell_type": "code",
      "execution_count": 2,
      "metadata": {
        "id": "5YiMKMurPBrJ"
      },
      "outputs": [
        {
          "name": "stderr",
          "output_type": "stream",
          "text": [
            "python: can't open file 'c:\\\\cnnsteph\\\\cnn-onset-detection\\\\gen_songlist.py': [Errno 2] No such file or directory\n"
          ]
        }
      ],
      "source": [
        "# prompt: run gen_songlist.py\n",
        "\n",
        "!python /cnnsteph/cnn-onset-detection/gen_songlist.py\n"
      ]
    },
    {
      "cell_type": "code",
      "execution_count": 4,
      "metadata": {},
      "outputs": [
        {
          "name": "stdout",
          "output_type": "stream",
          "text": [
            "['03-L3-F#3-140707_1606_mix_0', '03-L3-G3-140708_1103_mix_14', '03-L3-G3-140708_1103_mix_7', '05-L5-C#4-140707_1606_mix_11', '05-L5-C#4-140707_1606_mix_49', '05-L5-C#4-140707_1606_segment_18', '06-L6-F#4-140708_1103_mix_30', '08-L8-C5-140707_1606_mix_33', '16-R4-G#3-140707_1606_mix_15', '17-R5-B3-140707_1606_mix_0', '17-R5-B3-140707_1606_mix_17', '18-R6-A#4-140707_1606_mix_9', '18-R6-A#4-140707_1606_segment_8']\n"
          ]
        }
      ],
      "source": [
        "fold = 1\n",
        "\n",
        "import os\n",
        "\n",
        "# Définir le chemin relatif par rapport à votre script\n",
        "dataset_folder = '../../Small_Dataset/splits/'\n",
        "file_name = '8-fold_cv_random_%d.fold' % fold\n",
        "file_path = os.path.join(dataset_folder, file_name)\n",
        "\n",
        "# Lire le fichier ligne par ligne\n",
        "with open(file_path, 'r') as file:\n",
        "    val_split = file.readlines()\n",
        "\n",
        "# Supprimer les caractères de fin de ligne et afficher le contenu\n",
        "val_split = [line.strip() for line in val_split]\n",
        "print(val_split)\n",
        "\n"
      ]
    },
    {
      "cell_type": "code",
      "execution_count": 19,
      "metadata": {},
      "outputs": [
        {
          "name": "stdout",
          "output_type": "stream",
          "text": [
            "../../Small_Dataset/data_pt_test/02-L2-G#4-140708_1103_mix_43\n",
            "Le dossier existe\n",
            "['../../Small_Dataset/data_pt_test/02-L2-G#4-140708_1103_mix_43\\\\0.pt', '../../Small_Dataset/data_pt_test/02-L2-G#4-140708_1103_mix_43\\\\1.pt', '../../Small_Dataset/data_pt_test/02-L2-G#4-140708_1103_mix_43\\\\10.pt', '../../Small_Dataset/data_pt_test/02-L2-G#4-140708_1103_mix_43\\\\100.pt', '../../Small_Dataset/data_pt_test/02-L2-G#4-140708_1103_mix_43\\\\1000.pt', '../../Small_Dataset/data_pt_test/02-L2-G#4-140708_1103_mix_43\\\\1001.pt', '../../Small_Dataset/data_pt_test/02-L2-G#4-140708_1103_mix_43\\\\1002.pt', '../../Small_Dataset/data_pt_test/02-L2-G#4-140708_1103_mix_43\\\\1003.pt', '../../Small_Dataset/data_pt_test/02-L2-G#4-140708_1103_mix_43\\\\1004.pt', '../../Small_Dataset/data_pt_test/02-L2-G#4-140708_1103_mix_43\\\\1005.pt', '../../Small_Dataset/data_pt_test/02-L2-G#4-140708_1103_mix_43\\\\1006.pt', '../../Small_Dataset/data_pt_test/02-L2-G#4-140708_1103_mix_43\\\\1007.pt', '../../Small_Dataset/data_pt_test/02-L2-G#4-140708_1103_mix_43\\\\1008.pt', '../../Small_Dataset/data_pt_test/02-L2-G#4-140708_1103_mix_43\\\\1009.pt', '../../Small_Dataset/data_pt_test/02-L2-G#4-140708_1103_mix_43\\\\101.pt', '../../Small_Dataset/data_pt_test/02-L2-G#4-140708_1103_mix_43\\\\1010.pt', '../../Small_Dataset/data_pt_test/02-L2-G#4-140708_1103_mix_43\\\\1011.pt', '../../Small_Dataset/data_pt_test/02-L2-G#4-140708_1103_mix_43\\\\1012.pt', '../../Small_Dataset/data_pt_test/02-L2-G#4-140708_1103_mix_43\\\\1013.pt', '../../Small_Dataset/data_pt_test/02-L2-G#4-140708_1103_mix_43\\\\1014.pt', '../../Small_Dataset/data_pt_test/02-L2-G#4-140708_1103_mix_43\\\\102.pt', '../../Small_Dataset/data_pt_test/02-L2-G#4-140708_1103_mix_43\\\\103.pt', '../../Small_Dataset/data_pt_test/02-L2-G#4-140708_1103_mix_43\\\\104.pt', '../../Small_Dataset/data_pt_test/02-L2-G#4-140708_1103_mix_43\\\\105.pt', '../../Small_Dataset/data_pt_test/02-L2-G#4-140708_1103_mix_43\\\\106.pt', '../../Small_Dataset/data_pt_test/02-L2-G#4-140708_1103_mix_43\\\\107.pt', '../../Small_Dataset/data_pt_test/02-L2-G#4-140708_1103_mix_43\\\\108.pt', '../../Small_Dataset/data_pt_test/02-L2-G#4-140708_1103_mix_43\\\\109.pt', '../../Small_Dataset/data_pt_test/02-L2-G#4-140708_1103_mix_43\\\\11.pt', '../../Small_Dataset/data_pt_test/02-L2-G#4-140708_1103_mix_43\\\\110.pt', '../../Small_Dataset/data_pt_test/02-L2-G#4-140708_1103_mix_43\\\\111.pt', '../../Small_Dataset/data_pt_test/02-L2-G#4-140708_1103_mix_43\\\\112.pt', '../../Small_Dataset/data_pt_test/02-L2-G#4-140708_1103_mix_43\\\\113.pt', '../../Small_Dataset/data_pt_test/02-L2-G#4-140708_1103_mix_43\\\\114.pt', '../../Small_Dataset/data_pt_test/02-L2-G#4-140708_1103_mix_43\\\\115.pt', '../../Small_Dataset/data_pt_test/02-L2-G#4-140708_1103_mix_43\\\\116.pt', '../../Small_Dataset/data_pt_test/02-L2-G#4-140708_1103_mix_43\\\\117.pt', '../../Small_Dataset/data_pt_test/02-L2-G#4-140708_1103_mix_43\\\\118.pt', '../../Small_Dataset/data_pt_test/02-L2-G#4-140708_1103_mix_43\\\\119.pt', '../../Small_Dataset/data_pt_test/02-L2-G#4-140708_1103_mix_43\\\\12.pt', '../../Small_Dataset/data_pt_test/02-L2-G#4-140708_1103_mix_43\\\\120.pt', '../../Small_Dataset/data_pt_test/02-L2-G#4-140708_1103_mix_43\\\\121.pt', '../../Small_Dataset/data_pt_test/02-L2-G#4-140708_1103_mix_43\\\\122.pt', '../../Small_Dataset/data_pt_test/02-L2-G#4-140708_1103_mix_43\\\\123.pt', '../../Small_Dataset/data_pt_test/02-L2-G#4-140708_1103_mix_43\\\\124.pt', '../../Small_Dataset/data_pt_test/02-L2-G#4-140708_1103_mix_43\\\\125.pt', '../../Small_Dataset/data_pt_test/02-L2-G#4-140708_1103_mix_43\\\\126.pt', '../../Small_Dataset/data_pt_test/02-L2-G#4-140708_1103_mix_43\\\\127.pt', '../../Small_Dataset/data_pt_test/02-L2-G#4-140708_1103_mix_43\\\\128.pt', '../../Small_Dataset/data_pt_test/02-L2-G#4-140708_1103_mix_43\\\\129.pt', '../../Small_Dataset/data_pt_test/02-L2-G#4-140708_1103_mix_43\\\\13.pt', '../../Small_Dataset/data_pt_test/02-L2-G#4-140708_1103_mix_43\\\\130.pt', '../../Small_Dataset/data_pt_test/02-L2-G#4-140708_1103_mix_43\\\\131.pt', '../../Small_Dataset/data_pt_test/02-L2-G#4-140708_1103_mix_43\\\\132.pt', '../../Small_Dataset/data_pt_test/02-L2-G#4-140708_1103_mix_43\\\\133.pt', '../../Small_Dataset/data_pt_test/02-L2-G#4-140708_1103_mix_43\\\\134.pt', '../../Small_Dataset/data_pt_test/02-L2-G#4-140708_1103_mix_43\\\\135.pt', '../../Small_Dataset/data_pt_test/02-L2-G#4-140708_1103_mix_43\\\\136.pt', '../../Small_Dataset/data_pt_test/02-L2-G#4-140708_1103_mix_43\\\\137.pt', '../../Small_Dataset/data_pt_test/02-L2-G#4-140708_1103_mix_43\\\\138.pt', '../../Small_Dataset/data_pt_test/02-L2-G#4-140708_1103_mix_43\\\\139.pt', '../../Small_Dataset/data_pt_test/02-L2-G#4-140708_1103_mix_43\\\\14.pt', '../../Small_Dataset/data_pt_test/02-L2-G#4-140708_1103_mix_43\\\\140.pt', '../../Small_Dataset/data_pt_test/02-L2-G#4-140708_1103_mix_43\\\\141.pt', '../../Small_Dataset/data_pt_test/02-L2-G#4-140708_1103_mix_43\\\\142.pt', '../../Small_Dataset/data_pt_test/02-L2-G#4-140708_1103_mix_43\\\\143.pt', '../../Small_Dataset/data_pt_test/02-L2-G#4-140708_1103_mix_43\\\\144.pt', '../../Small_Dataset/data_pt_test/02-L2-G#4-140708_1103_mix_43\\\\145.pt', '../../Small_Dataset/data_pt_test/02-L2-G#4-140708_1103_mix_43\\\\146.pt', '../../Small_Dataset/data_pt_test/02-L2-G#4-140708_1103_mix_43\\\\147.pt', '../../Small_Dataset/data_pt_test/02-L2-G#4-140708_1103_mix_43\\\\148.pt', '../../Small_Dataset/data_pt_test/02-L2-G#4-140708_1103_mix_43\\\\149.pt', '../../Small_Dataset/data_pt_test/02-L2-G#4-140708_1103_mix_43\\\\15.pt', '../../Small_Dataset/data_pt_test/02-L2-G#4-140708_1103_mix_43\\\\150.pt', '../../Small_Dataset/data_pt_test/02-L2-G#4-140708_1103_mix_43\\\\151.pt', '../../Small_Dataset/data_pt_test/02-L2-G#4-140708_1103_mix_43\\\\152.pt', '../../Small_Dataset/data_pt_test/02-L2-G#4-140708_1103_mix_43\\\\153.pt', '../../Small_Dataset/data_pt_test/02-L2-G#4-140708_1103_mix_43\\\\154.pt', '../../Small_Dataset/data_pt_test/02-L2-G#4-140708_1103_mix_43\\\\155.pt', '../../Small_Dataset/data_pt_test/02-L2-G#4-140708_1103_mix_43\\\\156.pt', '../../Small_Dataset/data_pt_test/02-L2-G#4-140708_1103_mix_43\\\\157.pt', '../../Small_Dataset/data_pt_test/02-L2-G#4-140708_1103_mix_43\\\\158.pt', '../../Small_Dataset/data_pt_test/02-L2-G#4-140708_1103_mix_43\\\\159.pt', '../../Small_Dataset/data_pt_test/02-L2-G#4-140708_1103_mix_43\\\\16.pt', '../../Small_Dataset/data_pt_test/02-L2-G#4-140708_1103_mix_43\\\\160.pt', '../../Small_Dataset/data_pt_test/02-L2-G#4-140708_1103_mix_43\\\\161.pt', '../../Small_Dataset/data_pt_test/02-L2-G#4-140708_1103_mix_43\\\\162.pt', '../../Small_Dataset/data_pt_test/02-L2-G#4-140708_1103_mix_43\\\\163.pt', '../../Small_Dataset/data_pt_test/02-L2-G#4-140708_1103_mix_43\\\\164.pt', '../../Small_Dataset/data_pt_test/02-L2-G#4-140708_1103_mix_43\\\\165.pt', '../../Small_Dataset/data_pt_test/02-L2-G#4-140708_1103_mix_43\\\\166.pt', '../../Small_Dataset/data_pt_test/02-L2-G#4-140708_1103_mix_43\\\\167.pt', '../../Small_Dataset/data_pt_test/02-L2-G#4-140708_1103_mix_43\\\\168.pt', '../../Small_Dataset/data_pt_test/02-L2-G#4-140708_1103_mix_43\\\\169.pt', '../../Small_Dataset/data_pt_test/02-L2-G#4-140708_1103_mix_43\\\\17.pt', '../../Small_Dataset/data_pt_test/02-L2-G#4-140708_1103_mix_43\\\\170.pt', '../../Small_Dataset/data_pt_test/02-L2-G#4-140708_1103_mix_43\\\\171.pt', '../../Small_Dataset/data_pt_test/02-L2-G#4-140708_1103_mix_43\\\\172.pt', '../../Small_Dataset/data_pt_test/02-L2-G#4-140708_1103_mix_43\\\\173.pt', '../../Small_Dataset/data_pt_test/02-L2-G#4-140708_1103_mix_43\\\\174.pt', '../../Small_Dataset/data_pt_test/02-L2-G#4-140708_1103_mix_43\\\\175.pt', '../../Small_Dataset/data_pt_test/02-L2-G#4-140708_1103_mix_43\\\\176.pt', '../../Small_Dataset/data_pt_test/02-L2-G#4-140708_1103_mix_43\\\\177.pt', '../../Small_Dataset/data_pt_test/02-L2-G#4-140708_1103_mix_43\\\\178.pt', '../../Small_Dataset/data_pt_test/02-L2-G#4-140708_1103_mix_43\\\\179.pt', '../../Small_Dataset/data_pt_test/02-L2-G#4-140708_1103_mix_43\\\\18.pt', '../../Small_Dataset/data_pt_test/02-L2-G#4-140708_1103_mix_43\\\\180.pt', '../../Small_Dataset/data_pt_test/02-L2-G#4-140708_1103_mix_43\\\\181.pt', '../../Small_Dataset/data_pt_test/02-L2-G#4-140708_1103_mix_43\\\\182.pt', '../../Small_Dataset/data_pt_test/02-L2-G#4-140708_1103_mix_43\\\\183.pt', '../../Small_Dataset/data_pt_test/02-L2-G#4-140708_1103_mix_43\\\\184.pt', '../../Small_Dataset/data_pt_test/02-L2-G#4-140708_1103_mix_43\\\\185.pt', '../../Small_Dataset/data_pt_test/02-L2-G#4-140708_1103_mix_43\\\\186.pt', '../../Small_Dataset/data_pt_test/02-L2-G#4-140708_1103_mix_43\\\\187.pt', '../../Small_Dataset/data_pt_test/02-L2-G#4-140708_1103_mix_43\\\\188.pt', '../../Small_Dataset/data_pt_test/02-L2-G#4-140708_1103_mix_43\\\\189.pt', '../../Small_Dataset/data_pt_test/02-L2-G#4-140708_1103_mix_43\\\\19.pt', '../../Small_Dataset/data_pt_test/02-L2-G#4-140708_1103_mix_43\\\\190.pt', '../../Small_Dataset/data_pt_test/02-L2-G#4-140708_1103_mix_43\\\\191.pt', '../../Small_Dataset/data_pt_test/02-L2-G#4-140708_1103_mix_43\\\\192.pt', '../../Small_Dataset/data_pt_test/02-L2-G#4-140708_1103_mix_43\\\\193.pt', '../../Small_Dataset/data_pt_test/02-L2-G#4-140708_1103_mix_43\\\\194.pt', '../../Small_Dataset/data_pt_test/02-L2-G#4-140708_1103_mix_43\\\\195.pt', '../../Small_Dataset/data_pt_test/02-L2-G#4-140708_1103_mix_43\\\\196.pt', '../../Small_Dataset/data_pt_test/02-L2-G#4-140708_1103_mix_43\\\\197.pt', '../../Small_Dataset/data_pt_test/02-L2-G#4-140708_1103_mix_43\\\\198.pt', '../../Small_Dataset/data_pt_test/02-L2-G#4-140708_1103_mix_43\\\\199.pt', '../../Small_Dataset/data_pt_test/02-L2-G#4-140708_1103_mix_43\\\\2.pt', '../../Small_Dataset/data_pt_test/02-L2-G#4-140708_1103_mix_43\\\\20.pt', '../../Small_Dataset/data_pt_test/02-L2-G#4-140708_1103_mix_43\\\\200.pt', '../../Small_Dataset/data_pt_test/02-L2-G#4-140708_1103_mix_43\\\\201.pt', '../../Small_Dataset/data_pt_test/02-L2-G#4-140708_1103_mix_43\\\\202.pt', '../../Small_Dataset/data_pt_test/02-L2-G#4-140708_1103_mix_43\\\\203.pt', '../../Small_Dataset/data_pt_test/02-L2-G#4-140708_1103_mix_43\\\\204.pt', '../../Small_Dataset/data_pt_test/02-L2-G#4-140708_1103_mix_43\\\\205.pt', '../../Small_Dataset/data_pt_test/02-L2-G#4-140708_1103_mix_43\\\\206.pt', '../../Small_Dataset/data_pt_test/02-L2-G#4-140708_1103_mix_43\\\\207.pt', '../../Small_Dataset/data_pt_test/02-L2-G#4-140708_1103_mix_43\\\\208.pt', '../../Small_Dataset/data_pt_test/02-L2-G#4-140708_1103_mix_43\\\\209.pt', '../../Small_Dataset/data_pt_test/02-L2-G#4-140708_1103_mix_43\\\\21.pt', '../../Small_Dataset/data_pt_test/02-L2-G#4-140708_1103_mix_43\\\\210.pt', '../../Small_Dataset/data_pt_test/02-L2-G#4-140708_1103_mix_43\\\\211.pt', '../../Small_Dataset/data_pt_test/02-L2-G#4-140708_1103_mix_43\\\\212.pt', '../../Small_Dataset/data_pt_test/02-L2-G#4-140708_1103_mix_43\\\\213.pt', '../../Small_Dataset/data_pt_test/02-L2-G#4-140708_1103_mix_43\\\\214.pt', '../../Small_Dataset/data_pt_test/02-L2-G#4-140708_1103_mix_43\\\\215.pt', '../../Small_Dataset/data_pt_test/02-L2-G#4-140708_1103_mix_43\\\\216.pt', '../../Small_Dataset/data_pt_test/02-L2-G#4-140708_1103_mix_43\\\\217.pt', '../../Small_Dataset/data_pt_test/02-L2-G#4-140708_1103_mix_43\\\\218.pt', '../../Small_Dataset/data_pt_test/02-L2-G#4-140708_1103_mix_43\\\\219.pt', '../../Small_Dataset/data_pt_test/02-L2-G#4-140708_1103_mix_43\\\\22.pt', '../../Small_Dataset/data_pt_test/02-L2-G#4-140708_1103_mix_43\\\\220.pt', '../../Small_Dataset/data_pt_test/02-L2-G#4-140708_1103_mix_43\\\\221.pt', '../../Small_Dataset/data_pt_test/02-L2-G#4-140708_1103_mix_43\\\\222.pt', '../../Small_Dataset/data_pt_test/02-L2-G#4-140708_1103_mix_43\\\\223.pt', '../../Small_Dataset/data_pt_test/02-L2-G#4-140708_1103_mix_43\\\\224.pt', '../../Small_Dataset/data_pt_test/02-L2-G#4-140708_1103_mix_43\\\\225.pt', '../../Small_Dataset/data_pt_test/02-L2-G#4-140708_1103_mix_43\\\\226.pt', '../../Small_Dataset/data_pt_test/02-L2-G#4-140708_1103_mix_43\\\\227.pt', '../../Small_Dataset/data_pt_test/02-L2-G#4-140708_1103_mix_43\\\\228.pt', '../../Small_Dataset/data_pt_test/02-L2-G#4-140708_1103_mix_43\\\\229.pt', '../../Small_Dataset/data_pt_test/02-L2-G#4-140708_1103_mix_43\\\\23.pt', '../../Small_Dataset/data_pt_test/02-L2-G#4-140708_1103_mix_43\\\\230.pt', '../../Small_Dataset/data_pt_test/02-L2-G#4-140708_1103_mix_43\\\\231.pt', '../../Small_Dataset/data_pt_test/02-L2-G#4-140708_1103_mix_43\\\\232.pt', '../../Small_Dataset/data_pt_test/02-L2-G#4-140708_1103_mix_43\\\\233.pt', '../../Small_Dataset/data_pt_test/02-L2-G#4-140708_1103_mix_43\\\\234.pt', '../../Small_Dataset/data_pt_test/02-L2-G#4-140708_1103_mix_43\\\\235.pt', '../../Small_Dataset/data_pt_test/02-L2-G#4-140708_1103_mix_43\\\\236.pt', '../../Small_Dataset/data_pt_test/02-L2-G#4-140708_1103_mix_43\\\\237.pt', '../../Small_Dataset/data_pt_test/02-L2-G#4-140708_1103_mix_43\\\\238.pt', '../../Small_Dataset/data_pt_test/02-L2-G#4-140708_1103_mix_43\\\\239.pt', '../../Small_Dataset/data_pt_test/02-L2-G#4-140708_1103_mix_43\\\\24.pt', '../../Small_Dataset/data_pt_test/02-L2-G#4-140708_1103_mix_43\\\\240.pt', '../../Small_Dataset/data_pt_test/02-L2-G#4-140708_1103_mix_43\\\\241.pt', '../../Small_Dataset/data_pt_test/02-L2-G#4-140708_1103_mix_43\\\\242.pt', '../../Small_Dataset/data_pt_test/02-L2-G#4-140708_1103_mix_43\\\\243.pt', '../../Small_Dataset/data_pt_test/02-L2-G#4-140708_1103_mix_43\\\\244.pt', '../../Small_Dataset/data_pt_test/02-L2-G#4-140708_1103_mix_43\\\\245.pt', '../../Small_Dataset/data_pt_test/02-L2-G#4-140708_1103_mix_43\\\\246.pt', '../../Small_Dataset/data_pt_test/02-L2-G#4-140708_1103_mix_43\\\\247.pt', '../../Small_Dataset/data_pt_test/02-L2-G#4-140708_1103_mix_43\\\\248.pt', '../../Small_Dataset/data_pt_test/02-L2-G#4-140708_1103_mix_43\\\\249.pt', '../../Small_Dataset/data_pt_test/02-L2-G#4-140708_1103_mix_43\\\\25.pt', '../../Small_Dataset/data_pt_test/02-L2-G#4-140708_1103_mix_43\\\\250.pt', '../../Small_Dataset/data_pt_test/02-L2-G#4-140708_1103_mix_43\\\\251.pt', '../../Small_Dataset/data_pt_test/02-L2-G#4-140708_1103_mix_43\\\\252.pt', '../../Small_Dataset/data_pt_test/02-L2-G#4-140708_1103_mix_43\\\\253.pt', '../../Small_Dataset/data_pt_test/02-L2-G#4-140708_1103_mix_43\\\\254.pt', '../../Small_Dataset/data_pt_test/02-L2-G#4-140708_1103_mix_43\\\\255.pt', '../../Small_Dataset/data_pt_test/02-L2-G#4-140708_1103_mix_43\\\\256.pt', '../../Small_Dataset/data_pt_test/02-L2-G#4-140708_1103_mix_43\\\\257.pt', '../../Small_Dataset/data_pt_test/02-L2-G#4-140708_1103_mix_43\\\\258.pt', '../../Small_Dataset/data_pt_test/02-L2-G#4-140708_1103_mix_43\\\\259.pt', '../../Small_Dataset/data_pt_test/02-L2-G#4-140708_1103_mix_43\\\\26.pt', '../../Small_Dataset/data_pt_test/02-L2-G#4-140708_1103_mix_43\\\\260.pt', '../../Small_Dataset/data_pt_test/02-L2-G#4-140708_1103_mix_43\\\\261.pt', '../../Small_Dataset/data_pt_test/02-L2-G#4-140708_1103_mix_43\\\\262.pt', '../../Small_Dataset/data_pt_test/02-L2-G#4-140708_1103_mix_43\\\\263.pt', '../../Small_Dataset/data_pt_test/02-L2-G#4-140708_1103_mix_43\\\\264.pt', '../../Small_Dataset/data_pt_test/02-L2-G#4-140708_1103_mix_43\\\\265.pt', '../../Small_Dataset/data_pt_test/02-L2-G#4-140708_1103_mix_43\\\\266.pt', '../../Small_Dataset/data_pt_test/02-L2-G#4-140708_1103_mix_43\\\\267.pt', '../../Small_Dataset/data_pt_test/02-L2-G#4-140708_1103_mix_43\\\\268.pt', '../../Small_Dataset/data_pt_test/02-L2-G#4-140708_1103_mix_43\\\\269.pt', '../../Small_Dataset/data_pt_test/02-L2-G#4-140708_1103_mix_43\\\\27.pt', '../../Small_Dataset/data_pt_test/02-L2-G#4-140708_1103_mix_43\\\\270.pt', '../../Small_Dataset/data_pt_test/02-L2-G#4-140708_1103_mix_43\\\\271.pt', '../../Small_Dataset/data_pt_test/02-L2-G#4-140708_1103_mix_43\\\\272.pt', '../../Small_Dataset/data_pt_test/02-L2-G#4-140708_1103_mix_43\\\\273.pt', '../../Small_Dataset/data_pt_test/02-L2-G#4-140708_1103_mix_43\\\\274.pt', '../../Small_Dataset/data_pt_test/02-L2-G#4-140708_1103_mix_43\\\\275.pt', '../../Small_Dataset/data_pt_test/02-L2-G#4-140708_1103_mix_43\\\\276.pt', '../../Small_Dataset/data_pt_test/02-L2-G#4-140708_1103_mix_43\\\\277.pt', '../../Small_Dataset/data_pt_test/02-L2-G#4-140708_1103_mix_43\\\\278.pt', '../../Small_Dataset/data_pt_test/02-L2-G#4-140708_1103_mix_43\\\\279.pt', '../../Small_Dataset/data_pt_test/02-L2-G#4-140708_1103_mix_43\\\\28.pt', '../../Small_Dataset/data_pt_test/02-L2-G#4-140708_1103_mix_43\\\\280.pt', '../../Small_Dataset/data_pt_test/02-L2-G#4-140708_1103_mix_43\\\\281.pt', '../../Small_Dataset/data_pt_test/02-L2-G#4-140708_1103_mix_43\\\\282.pt', '../../Small_Dataset/data_pt_test/02-L2-G#4-140708_1103_mix_43\\\\283.pt', '../../Small_Dataset/data_pt_test/02-L2-G#4-140708_1103_mix_43\\\\284.pt', '../../Small_Dataset/data_pt_test/02-L2-G#4-140708_1103_mix_43\\\\285.pt', '../../Small_Dataset/data_pt_test/02-L2-G#4-140708_1103_mix_43\\\\286.pt', '../../Small_Dataset/data_pt_test/02-L2-G#4-140708_1103_mix_43\\\\287.pt', '../../Small_Dataset/data_pt_test/02-L2-G#4-140708_1103_mix_43\\\\288.pt', '../../Small_Dataset/data_pt_test/02-L2-G#4-140708_1103_mix_43\\\\289.pt', '../../Small_Dataset/data_pt_test/02-L2-G#4-140708_1103_mix_43\\\\29.pt', '../../Small_Dataset/data_pt_test/02-L2-G#4-140708_1103_mix_43\\\\290.pt', '../../Small_Dataset/data_pt_test/02-L2-G#4-140708_1103_mix_43\\\\291.pt', '../../Small_Dataset/data_pt_test/02-L2-G#4-140708_1103_mix_43\\\\292.pt', '../../Small_Dataset/data_pt_test/02-L2-G#4-140708_1103_mix_43\\\\293.pt', '../../Small_Dataset/data_pt_test/02-L2-G#4-140708_1103_mix_43\\\\294.pt', '../../Small_Dataset/data_pt_test/02-L2-G#4-140708_1103_mix_43\\\\295.pt', '../../Small_Dataset/data_pt_test/02-L2-G#4-140708_1103_mix_43\\\\296.pt', '../../Small_Dataset/data_pt_test/02-L2-G#4-140708_1103_mix_43\\\\297.pt', '../../Small_Dataset/data_pt_test/02-L2-G#4-140708_1103_mix_43\\\\298.pt', '../../Small_Dataset/data_pt_test/02-L2-G#4-140708_1103_mix_43\\\\299.pt', '../../Small_Dataset/data_pt_test/02-L2-G#4-140708_1103_mix_43\\\\3.pt', '../../Small_Dataset/data_pt_test/02-L2-G#4-140708_1103_mix_43\\\\30.pt', '../../Small_Dataset/data_pt_test/02-L2-G#4-140708_1103_mix_43\\\\300.pt', '../../Small_Dataset/data_pt_test/02-L2-G#4-140708_1103_mix_43\\\\301.pt', '../../Small_Dataset/data_pt_test/02-L2-G#4-140708_1103_mix_43\\\\302.pt', '../../Small_Dataset/data_pt_test/02-L2-G#4-140708_1103_mix_43\\\\303.pt', '../../Small_Dataset/data_pt_test/02-L2-G#4-140708_1103_mix_43\\\\304.pt', '../../Small_Dataset/data_pt_test/02-L2-G#4-140708_1103_mix_43\\\\305.pt', '../../Small_Dataset/data_pt_test/02-L2-G#4-140708_1103_mix_43\\\\306.pt', '../../Small_Dataset/data_pt_test/02-L2-G#4-140708_1103_mix_43\\\\307.pt', '../../Small_Dataset/data_pt_test/02-L2-G#4-140708_1103_mix_43\\\\308.pt', '../../Small_Dataset/data_pt_test/02-L2-G#4-140708_1103_mix_43\\\\309.pt', '../../Small_Dataset/data_pt_test/02-L2-G#4-140708_1103_mix_43\\\\31.pt', '../../Small_Dataset/data_pt_test/02-L2-G#4-140708_1103_mix_43\\\\310.pt', '../../Small_Dataset/data_pt_test/02-L2-G#4-140708_1103_mix_43\\\\311.pt', '../../Small_Dataset/data_pt_test/02-L2-G#4-140708_1103_mix_43\\\\312.pt', '../../Small_Dataset/data_pt_test/02-L2-G#4-140708_1103_mix_43\\\\313.pt', '../../Small_Dataset/data_pt_test/02-L2-G#4-140708_1103_mix_43\\\\314.pt', '../../Small_Dataset/data_pt_test/02-L2-G#4-140708_1103_mix_43\\\\315.pt', '../../Small_Dataset/data_pt_test/02-L2-G#4-140708_1103_mix_43\\\\316.pt', '../../Small_Dataset/data_pt_test/02-L2-G#4-140708_1103_mix_43\\\\317.pt', '../../Small_Dataset/data_pt_test/02-L2-G#4-140708_1103_mix_43\\\\318.pt', '../../Small_Dataset/data_pt_test/02-L2-G#4-140708_1103_mix_43\\\\319.pt', '../../Small_Dataset/data_pt_test/02-L2-G#4-140708_1103_mix_43\\\\32.pt', '../../Small_Dataset/data_pt_test/02-L2-G#4-140708_1103_mix_43\\\\320.pt', '../../Small_Dataset/data_pt_test/02-L2-G#4-140708_1103_mix_43\\\\321.pt', '../../Small_Dataset/data_pt_test/02-L2-G#4-140708_1103_mix_43\\\\322.pt', '../../Small_Dataset/data_pt_test/02-L2-G#4-140708_1103_mix_43\\\\323.pt', '../../Small_Dataset/data_pt_test/02-L2-G#4-140708_1103_mix_43\\\\324.pt', '../../Small_Dataset/data_pt_test/02-L2-G#4-140708_1103_mix_43\\\\325.pt', '../../Small_Dataset/data_pt_test/02-L2-G#4-140708_1103_mix_43\\\\326.pt', '../../Small_Dataset/data_pt_test/02-L2-G#4-140708_1103_mix_43\\\\327.pt', '../../Small_Dataset/data_pt_test/02-L2-G#4-140708_1103_mix_43\\\\328.pt', '../../Small_Dataset/data_pt_test/02-L2-G#4-140708_1103_mix_43\\\\329.pt', '../../Small_Dataset/data_pt_test/02-L2-G#4-140708_1103_mix_43\\\\33.pt', '../../Small_Dataset/data_pt_test/02-L2-G#4-140708_1103_mix_43\\\\330.pt', '../../Small_Dataset/data_pt_test/02-L2-G#4-140708_1103_mix_43\\\\331.pt', '../../Small_Dataset/data_pt_test/02-L2-G#4-140708_1103_mix_43\\\\332.pt', '../../Small_Dataset/data_pt_test/02-L2-G#4-140708_1103_mix_43\\\\333.pt', '../../Small_Dataset/data_pt_test/02-L2-G#4-140708_1103_mix_43\\\\334.pt', '../../Small_Dataset/data_pt_test/02-L2-G#4-140708_1103_mix_43\\\\335.pt', '../../Small_Dataset/data_pt_test/02-L2-G#4-140708_1103_mix_43\\\\336.pt', '../../Small_Dataset/data_pt_test/02-L2-G#4-140708_1103_mix_43\\\\337.pt', '../../Small_Dataset/data_pt_test/02-L2-G#4-140708_1103_mix_43\\\\338.pt', '../../Small_Dataset/data_pt_test/02-L2-G#4-140708_1103_mix_43\\\\339.pt', '../../Small_Dataset/data_pt_test/02-L2-G#4-140708_1103_mix_43\\\\34.pt', '../../Small_Dataset/data_pt_test/02-L2-G#4-140708_1103_mix_43\\\\340.pt', '../../Small_Dataset/data_pt_test/02-L2-G#4-140708_1103_mix_43\\\\341.pt', '../../Small_Dataset/data_pt_test/02-L2-G#4-140708_1103_mix_43\\\\342.pt', '../../Small_Dataset/data_pt_test/02-L2-G#4-140708_1103_mix_43\\\\343.pt', '../../Small_Dataset/data_pt_test/02-L2-G#4-140708_1103_mix_43\\\\344.pt', '../../Small_Dataset/data_pt_test/02-L2-G#4-140708_1103_mix_43\\\\345.pt', '../../Small_Dataset/data_pt_test/02-L2-G#4-140708_1103_mix_43\\\\346.pt', '../../Small_Dataset/data_pt_test/02-L2-G#4-140708_1103_mix_43\\\\347.pt', '../../Small_Dataset/data_pt_test/02-L2-G#4-140708_1103_mix_43\\\\348.pt', '../../Small_Dataset/data_pt_test/02-L2-G#4-140708_1103_mix_43\\\\349.pt', '../../Small_Dataset/data_pt_test/02-L2-G#4-140708_1103_mix_43\\\\35.pt', '../../Small_Dataset/data_pt_test/02-L2-G#4-140708_1103_mix_43\\\\350.pt', '../../Small_Dataset/data_pt_test/02-L2-G#4-140708_1103_mix_43\\\\351.pt', '../../Small_Dataset/data_pt_test/02-L2-G#4-140708_1103_mix_43\\\\352.pt', '../../Small_Dataset/data_pt_test/02-L2-G#4-140708_1103_mix_43\\\\353.pt', '../../Small_Dataset/data_pt_test/02-L2-G#4-140708_1103_mix_43\\\\354.pt', '../../Small_Dataset/data_pt_test/02-L2-G#4-140708_1103_mix_43\\\\355.pt', '../../Small_Dataset/data_pt_test/02-L2-G#4-140708_1103_mix_43\\\\356.pt', '../../Small_Dataset/data_pt_test/02-L2-G#4-140708_1103_mix_43\\\\357.pt', '../../Small_Dataset/data_pt_test/02-L2-G#4-140708_1103_mix_43\\\\358.pt', '../../Small_Dataset/data_pt_test/02-L2-G#4-140708_1103_mix_43\\\\359.pt', '../../Small_Dataset/data_pt_test/02-L2-G#4-140708_1103_mix_43\\\\36.pt', '../../Small_Dataset/data_pt_test/02-L2-G#4-140708_1103_mix_43\\\\360.pt', '../../Small_Dataset/data_pt_test/02-L2-G#4-140708_1103_mix_43\\\\361.pt', '../../Small_Dataset/data_pt_test/02-L2-G#4-140708_1103_mix_43\\\\362.pt', '../../Small_Dataset/data_pt_test/02-L2-G#4-140708_1103_mix_43\\\\363.pt', '../../Small_Dataset/data_pt_test/02-L2-G#4-140708_1103_mix_43\\\\364.pt', '../../Small_Dataset/data_pt_test/02-L2-G#4-140708_1103_mix_43\\\\365.pt', '../../Small_Dataset/data_pt_test/02-L2-G#4-140708_1103_mix_43\\\\366.pt', '../../Small_Dataset/data_pt_test/02-L2-G#4-140708_1103_mix_43\\\\367.pt', '../../Small_Dataset/data_pt_test/02-L2-G#4-140708_1103_mix_43\\\\368.pt', '../../Small_Dataset/data_pt_test/02-L2-G#4-140708_1103_mix_43\\\\369.pt', '../../Small_Dataset/data_pt_test/02-L2-G#4-140708_1103_mix_43\\\\37.pt', '../../Small_Dataset/data_pt_test/02-L2-G#4-140708_1103_mix_43\\\\370.pt', '../../Small_Dataset/data_pt_test/02-L2-G#4-140708_1103_mix_43\\\\371.pt', '../../Small_Dataset/data_pt_test/02-L2-G#4-140708_1103_mix_43\\\\372.pt', '../../Small_Dataset/data_pt_test/02-L2-G#4-140708_1103_mix_43\\\\373.pt', '../../Small_Dataset/data_pt_test/02-L2-G#4-140708_1103_mix_43\\\\374.pt', '../../Small_Dataset/data_pt_test/02-L2-G#4-140708_1103_mix_43\\\\375.pt', '../../Small_Dataset/data_pt_test/02-L2-G#4-140708_1103_mix_43\\\\376.pt', '../../Small_Dataset/data_pt_test/02-L2-G#4-140708_1103_mix_43\\\\377.pt', '../../Small_Dataset/data_pt_test/02-L2-G#4-140708_1103_mix_43\\\\378.pt', '../../Small_Dataset/data_pt_test/02-L2-G#4-140708_1103_mix_43\\\\379.pt', '../../Small_Dataset/data_pt_test/02-L2-G#4-140708_1103_mix_43\\\\38.pt', '../../Small_Dataset/data_pt_test/02-L2-G#4-140708_1103_mix_43\\\\380.pt', '../../Small_Dataset/data_pt_test/02-L2-G#4-140708_1103_mix_43\\\\381.pt', '../../Small_Dataset/data_pt_test/02-L2-G#4-140708_1103_mix_43\\\\382.pt', '../../Small_Dataset/data_pt_test/02-L2-G#4-140708_1103_mix_43\\\\383.pt', '../../Small_Dataset/data_pt_test/02-L2-G#4-140708_1103_mix_43\\\\384.pt', '../../Small_Dataset/data_pt_test/02-L2-G#4-140708_1103_mix_43\\\\385.pt', '../../Small_Dataset/data_pt_test/02-L2-G#4-140708_1103_mix_43\\\\386.pt', '../../Small_Dataset/data_pt_test/02-L2-G#4-140708_1103_mix_43\\\\387.pt', '../../Small_Dataset/data_pt_test/02-L2-G#4-140708_1103_mix_43\\\\388.pt', '../../Small_Dataset/data_pt_test/02-L2-G#4-140708_1103_mix_43\\\\389.pt', '../../Small_Dataset/data_pt_test/02-L2-G#4-140708_1103_mix_43\\\\39.pt', '../../Small_Dataset/data_pt_test/02-L2-G#4-140708_1103_mix_43\\\\390.pt', '../../Small_Dataset/data_pt_test/02-L2-G#4-140708_1103_mix_43\\\\391.pt', '../../Small_Dataset/data_pt_test/02-L2-G#4-140708_1103_mix_43\\\\392.pt', '../../Small_Dataset/data_pt_test/02-L2-G#4-140708_1103_mix_43\\\\393.pt', '../../Small_Dataset/data_pt_test/02-L2-G#4-140708_1103_mix_43\\\\394.pt', '../../Small_Dataset/data_pt_test/02-L2-G#4-140708_1103_mix_43\\\\395.pt', '../../Small_Dataset/data_pt_test/02-L2-G#4-140708_1103_mix_43\\\\396.pt', '../../Small_Dataset/data_pt_test/02-L2-G#4-140708_1103_mix_43\\\\397.pt', '../../Small_Dataset/data_pt_test/02-L2-G#4-140708_1103_mix_43\\\\398.pt', '../../Small_Dataset/data_pt_test/02-L2-G#4-140708_1103_mix_43\\\\399.pt', '../../Small_Dataset/data_pt_test/02-L2-G#4-140708_1103_mix_43\\\\4.pt', '../../Small_Dataset/data_pt_test/02-L2-G#4-140708_1103_mix_43\\\\40.pt', '../../Small_Dataset/data_pt_test/02-L2-G#4-140708_1103_mix_43\\\\400.pt', '../../Small_Dataset/data_pt_test/02-L2-G#4-140708_1103_mix_43\\\\401.pt', '../../Small_Dataset/data_pt_test/02-L2-G#4-140708_1103_mix_43\\\\402.pt', '../../Small_Dataset/data_pt_test/02-L2-G#4-140708_1103_mix_43\\\\403.pt', '../../Small_Dataset/data_pt_test/02-L2-G#4-140708_1103_mix_43\\\\404.pt', '../../Small_Dataset/data_pt_test/02-L2-G#4-140708_1103_mix_43\\\\405.pt', '../../Small_Dataset/data_pt_test/02-L2-G#4-140708_1103_mix_43\\\\406.pt', '../../Small_Dataset/data_pt_test/02-L2-G#4-140708_1103_mix_43\\\\407.pt', '../../Small_Dataset/data_pt_test/02-L2-G#4-140708_1103_mix_43\\\\408.pt', '../../Small_Dataset/data_pt_test/02-L2-G#4-140708_1103_mix_43\\\\409.pt', '../../Small_Dataset/data_pt_test/02-L2-G#4-140708_1103_mix_43\\\\41.pt', '../../Small_Dataset/data_pt_test/02-L2-G#4-140708_1103_mix_43\\\\410.pt', '../../Small_Dataset/data_pt_test/02-L2-G#4-140708_1103_mix_43\\\\411.pt', '../../Small_Dataset/data_pt_test/02-L2-G#4-140708_1103_mix_43\\\\412.pt', '../../Small_Dataset/data_pt_test/02-L2-G#4-140708_1103_mix_43\\\\413.pt', '../../Small_Dataset/data_pt_test/02-L2-G#4-140708_1103_mix_43\\\\414.pt', '../../Small_Dataset/data_pt_test/02-L2-G#4-140708_1103_mix_43\\\\415.pt', '../../Small_Dataset/data_pt_test/02-L2-G#4-140708_1103_mix_43\\\\416.pt', '../../Small_Dataset/data_pt_test/02-L2-G#4-140708_1103_mix_43\\\\417.pt', '../../Small_Dataset/data_pt_test/02-L2-G#4-140708_1103_mix_43\\\\418.pt', '../../Small_Dataset/data_pt_test/02-L2-G#4-140708_1103_mix_43\\\\419.pt', '../../Small_Dataset/data_pt_test/02-L2-G#4-140708_1103_mix_43\\\\42.pt', '../../Small_Dataset/data_pt_test/02-L2-G#4-140708_1103_mix_43\\\\420.pt', '../../Small_Dataset/data_pt_test/02-L2-G#4-140708_1103_mix_43\\\\421.pt', '../../Small_Dataset/data_pt_test/02-L2-G#4-140708_1103_mix_43\\\\422.pt', '../../Small_Dataset/data_pt_test/02-L2-G#4-140708_1103_mix_43\\\\423.pt', '../../Small_Dataset/data_pt_test/02-L2-G#4-140708_1103_mix_43\\\\424.pt', '../../Small_Dataset/data_pt_test/02-L2-G#4-140708_1103_mix_43\\\\425.pt', '../../Small_Dataset/data_pt_test/02-L2-G#4-140708_1103_mix_43\\\\426.pt', '../../Small_Dataset/data_pt_test/02-L2-G#4-140708_1103_mix_43\\\\427.pt', '../../Small_Dataset/data_pt_test/02-L2-G#4-140708_1103_mix_43\\\\428.pt', '../../Small_Dataset/data_pt_test/02-L2-G#4-140708_1103_mix_43\\\\429.pt', '../../Small_Dataset/data_pt_test/02-L2-G#4-140708_1103_mix_43\\\\43.pt', '../../Small_Dataset/data_pt_test/02-L2-G#4-140708_1103_mix_43\\\\430.pt', '../../Small_Dataset/data_pt_test/02-L2-G#4-140708_1103_mix_43\\\\431.pt', '../../Small_Dataset/data_pt_test/02-L2-G#4-140708_1103_mix_43\\\\432.pt', '../../Small_Dataset/data_pt_test/02-L2-G#4-140708_1103_mix_43\\\\433.pt', '../../Small_Dataset/data_pt_test/02-L2-G#4-140708_1103_mix_43\\\\434.pt', '../../Small_Dataset/data_pt_test/02-L2-G#4-140708_1103_mix_43\\\\435.pt', '../../Small_Dataset/data_pt_test/02-L2-G#4-140708_1103_mix_43\\\\436.pt', '../../Small_Dataset/data_pt_test/02-L2-G#4-140708_1103_mix_43\\\\437.pt', '../../Small_Dataset/data_pt_test/02-L2-G#4-140708_1103_mix_43\\\\438.pt', '../../Small_Dataset/data_pt_test/02-L2-G#4-140708_1103_mix_43\\\\439.pt', '../../Small_Dataset/data_pt_test/02-L2-G#4-140708_1103_mix_43\\\\44.pt', '../../Small_Dataset/data_pt_test/02-L2-G#4-140708_1103_mix_43\\\\440.pt', '../../Small_Dataset/data_pt_test/02-L2-G#4-140708_1103_mix_43\\\\441.pt', '../../Small_Dataset/data_pt_test/02-L2-G#4-140708_1103_mix_43\\\\442.pt', '../../Small_Dataset/data_pt_test/02-L2-G#4-140708_1103_mix_43\\\\443.pt', '../../Small_Dataset/data_pt_test/02-L2-G#4-140708_1103_mix_43\\\\444.pt', '../../Small_Dataset/data_pt_test/02-L2-G#4-140708_1103_mix_43\\\\445.pt', '../../Small_Dataset/data_pt_test/02-L2-G#4-140708_1103_mix_43\\\\446.pt', '../../Small_Dataset/data_pt_test/02-L2-G#4-140708_1103_mix_43\\\\447.pt', '../../Small_Dataset/data_pt_test/02-L2-G#4-140708_1103_mix_43\\\\448.pt', '../../Small_Dataset/data_pt_test/02-L2-G#4-140708_1103_mix_43\\\\449.pt', '../../Small_Dataset/data_pt_test/02-L2-G#4-140708_1103_mix_43\\\\45.pt', '../../Small_Dataset/data_pt_test/02-L2-G#4-140708_1103_mix_43\\\\450.pt', '../../Small_Dataset/data_pt_test/02-L2-G#4-140708_1103_mix_43\\\\451.pt', '../../Small_Dataset/data_pt_test/02-L2-G#4-140708_1103_mix_43\\\\452.pt', '../../Small_Dataset/data_pt_test/02-L2-G#4-140708_1103_mix_43\\\\453.pt', '../../Small_Dataset/data_pt_test/02-L2-G#4-140708_1103_mix_43\\\\454.pt', '../../Small_Dataset/data_pt_test/02-L2-G#4-140708_1103_mix_43\\\\455.pt', '../../Small_Dataset/data_pt_test/02-L2-G#4-140708_1103_mix_43\\\\456.pt', '../../Small_Dataset/data_pt_test/02-L2-G#4-140708_1103_mix_43\\\\457.pt', '../../Small_Dataset/data_pt_test/02-L2-G#4-140708_1103_mix_43\\\\458.pt', '../../Small_Dataset/data_pt_test/02-L2-G#4-140708_1103_mix_43\\\\459.pt', '../../Small_Dataset/data_pt_test/02-L2-G#4-140708_1103_mix_43\\\\46.pt', '../../Small_Dataset/data_pt_test/02-L2-G#4-140708_1103_mix_43\\\\460.pt', '../../Small_Dataset/data_pt_test/02-L2-G#4-140708_1103_mix_43\\\\461.pt', '../../Small_Dataset/data_pt_test/02-L2-G#4-140708_1103_mix_43\\\\462.pt', '../../Small_Dataset/data_pt_test/02-L2-G#4-140708_1103_mix_43\\\\463.pt', '../../Small_Dataset/data_pt_test/02-L2-G#4-140708_1103_mix_43\\\\464.pt', '../../Small_Dataset/data_pt_test/02-L2-G#4-140708_1103_mix_43\\\\465.pt', '../../Small_Dataset/data_pt_test/02-L2-G#4-140708_1103_mix_43\\\\466.pt', '../../Small_Dataset/data_pt_test/02-L2-G#4-140708_1103_mix_43\\\\467.pt', '../../Small_Dataset/data_pt_test/02-L2-G#4-140708_1103_mix_43\\\\468.pt', '../../Small_Dataset/data_pt_test/02-L2-G#4-140708_1103_mix_43\\\\469.pt', '../../Small_Dataset/data_pt_test/02-L2-G#4-140708_1103_mix_43\\\\47.pt', '../../Small_Dataset/data_pt_test/02-L2-G#4-140708_1103_mix_43\\\\470.pt', '../../Small_Dataset/data_pt_test/02-L2-G#4-140708_1103_mix_43\\\\471.pt', '../../Small_Dataset/data_pt_test/02-L2-G#4-140708_1103_mix_43\\\\472.pt', '../../Small_Dataset/data_pt_test/02-L2-G#4-140708_1103_mix_43\\\\473.pt', '../../Small_Dataset/data_pt_test/02-L2-G#4-140708_1103_mix_43\\\\474.pt', '../../Small_Dataset/data_pt_test/02-L2-G#4-140708_1103_mix_43\\\\475.pt', '../../Small_Dataset/data_pt_test/02-L2-G#4-140708_1103_mix_43\\\\476.pt', '../../Small_Dataset/data_pt_test/02-L2-G#4-140708_1103_mix_43\\\\477.pt', '../../Small_Dataset/data_pt_test/02-L2-G#4-140708_1103_mix_43\\\\478.pt', '../../Small_Dataset/data_pt_test/02-L2-G#4-140708_1103_mix_43\\\\479.pt', '../../Small_Dataset/data_pt_test/02-L2-G#4-140708_1103_mix_43\\\\48.pt', '../../Small_Dataset/data_pt_test/02-L2-G#4-140708_1103_mix_43\\\\480.pt', '../../Small_Dataset/data_pt_test/02-L2-G#4-140708_1103_mix_43\\\\481.pt', '../../Small_Dataset/data_pt_test/02-L2-G#4-140708_1103_mix_43\\\\482.pt', '../../Small_Dataset/data_pt_test/02-L2-G#4-140708_1103_mix_43\\\\483.pt', '../../Small_Dataset/data_pt_test/02-L2-G#4-140708_1103_mix_43\\\\484.pt', '../../Small_Dataset/data_pt_test/02-L2-G#4-140708_1103_mix_43\\\\485.pt', '../../Small_Dataset/data_pt_test/02-L2-G#4-140708_1103_mix_43\\\\486.pt', '../../Small_Dataset/data_pt_test/02-L2-G#4-140708_1103_mix_43\\\\487.pt', '../../Small_Dataset/data_pt_test/02-L2-G#4-140708_1103_mix_43\\\\488.pt', '../../Small_Dataset/data_pt_test/02-L2-G#4-140708_1103_mix_43\\\\489.pt', '../../Small_Dataset/data_pt_test/02-L2-G#4-140708_1103_mix_43\\\\49.pt', '../../Small_Dataset/data_pt_test/02-L2-G#4-140708_1103_mix_43\\\\490.pt', '../../Small_Dataset/data_pt_test/02-L2-G#4-140708_1103_mix_43\\\\491.pt', '../../Small_Dataset/data_pt_test/02-L2-G#4-140708_1103_mix_43\\\\492.pt', '../../Small_Dataset/data_pt_test/02-L2-G#4-140708_1103_mix_43\\\\493.pt', '../../Small_Dataset/data_pt_test/02-L2-G#4-140708_1103_mix_43\\\\494.pt', '../../Small_Dataset/data_pt_test/02-L2-G#4-140708_1103_mix_43\\\\495.pt', '../../Small_Dataset/data_pt_test/02-L2-G#4-140708_1103_mix_43\\\\496.pt', '../../Small_Dataset/data_pt_test/02-L2-G#4-140708_1103_mix_43\\\\497.pt', '../../Small_Dataset/data_pt_test/02-L2-G#4-140708_1103_mix_43\\\\498.pt', '../../Small_Dataset/data_pt_test/02-L2-G#4-140708_1103_mix_43\\\\499.pt', '../../Small_Dataset/data_pt_test/02-L2-G#4-140708_1103_mix_43\\\\5.pt', '../../Small_Dataset/data_pt_test/02-L2-G#4-140708_1103_mix_43\\\\50.pt', '../../Small_Dataset/data_pt_test/02-L2-G#4-140708_1103_mix_43\\\\500.pt', '../../Small_Dataset/data_pt_test/02-L2-G#4-140708_1103_mix_43\\\\501.pt', '../../Small_Dataset/data_pt_test/02-L2-G#4-140708_1103_mix_43\\\\502.pt', '../../Small_Dataset/data_pt_test/02-L2-G#4-140708_1103_mix_43\\\\503.pt', '../../Small_Dataset/data_pt_test/02-L2-G#4-140708_1103_mix_43\\\\504.pt', '../../Small_Dataset/data_pt_test/02-L2-G#4-140708_1103_mix_43\\\\505.pt', '../../Small_Dataset/data_pt_test/02-L2-G#4-140708_1103_mix_43\\\\506.pt', '../../Small_Dataset/data_pt_test/02-L2-G#4-140708_1103_mix_43\\\\507.pt', '../../Small_Dataset/data_pt_test/02-L2-G#4-140708_1103_mix_43\\\\508.pt', '../../Small_Dataset/data_pt_test/02-L2-G#4-140708_1103_mix_43\\\\509.pt', '../../Small_Dataset/data_pt_test/02-L2-G#4-140708_1103_mix_43\\\\51.pt', '../../Small_Dataset/data_pt_test/02-L2-G#4-140708_1103_mix_43\\\\510.pt', '../../Small_Dataset/data_pt_test/02-L2-G#4-140708_1103_mix_43\\\\511.pt', '../../Small_Dataset/data_pt_test/02-L2-G#4-140708_1103_mix_43\\\\512.pt', '../../Small_Dataset/data_pt_test/02-L2-G#4-140708_1103_mix_43\\\\513.pt', '../../Small_Dataset/data_pt_test/02-L2-G#4-140708_1103_mix_43\\\\514.pt', '../../Small_Dataset/data_pt_test/02-L2-G#4-140708_1103_mix_43\\\\515.pt', '../../Small_Dataset/data_pt_test/02-L2-G#4-140708_1103_mix_43\\\\516.pt', '../../Small_Dataset/data_pt_test/02-L2-G#4-140708_1103_mix_43\\\\517.pt', '../../Small_Dataset/data_pt_test/02-L2-G#4-140708_1103_mix_43\\\\518.pt', '../../Small_Dataset/data_pt_test/02-L2-G#4-140708_1103_mix_43\\\\519.pt', '../../Small_Dataset/data_pt_test/02-L2-G#4-140708_1103_mix_43\\\\52.pt', '../../Small_Dataset/data_pt_test/02-L2-G#4-140708_1103_mix_43\\\\520.pt', '../../Small_Dataset/data_pt_test/02-L2-G#4-140708_1103_mix_43\\\\521.pt', '../../Small_Dataset/data_pt_test/02-L2-G#4-140708_1103_mix_43\\\\522.pt', '../../Small_Dataset/data_pt_test/02-L2-G#4-140708_1103_mix_43\\\\523.pt', '../../Small_Dataset/data_pt_test/02-L2-G#4-140708_1103_mix_43\\\\524.pt', '../../Small_Dataset/data_pt_test/02-L2-G#4-140708_1103_mix_43\\\\525.pt', '../../Small_Dataset/data_pt_test/02-L2-G#4-140708_1103_mix_43\\\\526.pt', '../../Small_Dataset/data_pt_test/02-L2-G#4-140708_1103_mix_43\\\\527.pt', '../../Small_Dataset/data_pt_test/02-L2-G#4-140708_1103_mix_43\\\\528.pt', '../../Small_Dataset/data_pt_test/02-L2-G#4-140708_1103_mix_43\\\\529.pt', '../../Small_Dataset/data_pt_test/02-L2-G#4-140708_1103_mix_43\\\\53.pt', '../../Small_Dataset/data_pt_test/02-L2-G#4-140708_1103_mix_43\\\\530.pt', '../../Small_Dataset/data_pt_test/02-L2-G#4-140708_1103_mix_43\\\\531.pt', '../../Small_Dataset/data_pt_test/02-L2-G#4-140708_1103_mix_43\\\\532.pt', '../../Small_Dataset/data_pt_test/02-L2-G#4-140708_1103_mix_43\\\\533.pt', '../../Small_Dataset/data_pt_test/02-L2-G#4-140708_1103_mix_43\\\\534.pt', '../../Small_Dataset/data_pt_test/02-L2-G#4-140708_1103_mix_43\\\\535.pt', '../../Small_Dataset/data_pt_test/02-L2-G#4-140708_1103_mix_43\\\\536.pt', '../../Small_Dataset/data_pt_test/02-L2-G#4-140708_1103_mix_43\\\\537.pt', '../../Small_Dataset/data_pt_test/02-L2-G#4-140708_1103_mix_43\\\\538.pt', '../../Small_Dataset/data_pt_test/02-L2-G#4-140708_1103_mix_43\\\\539.pt', '../../Small_Dataset/data_pt_test/02-L2-G#4-140708_1103_mix_43\\\\54.pt', '../../Small_Dataset/data_pt_test/02-L2-G#4-140708_1103_mix_43\\\\540.pt', '../../Small_Dataset/data_pt_test/02-L2-G#4-140708_1103_mix_43\\\\541.pt', '../../Small_Dataset/data_pt_test/02-L2-G#4-140708_1103_mix_43\\\\542.pt', '../../Small_Dataset/data_pt_test/02-L2-G#4-140708_1103_mix_43\\\\543.pt', '../../Small_Dataset/data_pt_test/02-L2-G#4-140708_1103_mix_43\\\\544.pt', '../../Small_Dataset/data_pt_test/02-L2-G#4-140708_1103_mix_43\\\\545.pt', '../../Small_Dataset/data_pt_test/02-L2-G#4-140708_1103_mix_43\\\\546.pt', '../../Small_Dataset/data_pt_test/02-L2-G#4-140708_1103_mix_43\\\\547.pt', '../../Small_Dataset/data_pt_test/02-L2-G#4-140708_1103_mix_43\\\\548.pt', '../../Small_Dataset/data_pt_test/02-L2-G#4-140708_1103_mix_43\\\\549.pt', '../../Small_Dataset/data_pt_test/02-L2-G#4-140708_1103_mix_43\\\\55.pt', '../../Small_Dataset/data_pt_test/02-L2-G#4-140708_1103_mix_43\\\\550.pt', '../../Small_Dataset/data_pt_test/02-L2-G#4-140708_1103_mix_43\\\\551.pt', '../../Small_Dataset/data_pt_test/02-L2-G#4-140708_1103_mix_43\\\\552.pt', '../../Small_Dataset/data_pt_test/02-L2-G#4-140708_1103_mix_43\\\\553.pt', '../../Small_Dataset/data_pt_test/02-L2-G#4-140708_1103_mix_43\\\\554.pt', '../../Small_Dataset/data_pt_test/02-L2-G#4-140708_1103_mix_43\\\\555.pt', '../../Small_Dataset/data_pt_test/02-L2-G#4-140708_1103_mix_43\\\\556.pt', '../../Small_Dataset/data_pt_test/02-L2-G#4-140708_1103_mix_43\\\\557.pt', '../../Small_Dataset/data_pt_test/02-L2-G#4-140708_1103_mix_43\\\\558.pt', '../../Small_Dataset/data_pt_test/02-L2-G#4-140708_1103_mix_43\\\\559.pt', '../../Small_Dataset/data_pt_test/02-L2-G#4-140708_1103_mix_43\\\\56.pt', '../../Small_Dataset/data_pt_test/02-L2-G#4-140708_1103_mix_43\\\\560.pt', '../../Small_Dataset/data_pt_test/02-L2-G#4-140708_1103_mix_43\\\\561.pt', '../../Small_Dataset/data_pt_test/02-L2-G#4-140708_1103_mix_43\\\\562.pt', '../../Small_Dataset/data_pt_test/02-L2-G#4-140708_1103_mix_43\\\\563.pt', '../../Small_Dataset/data_pt_test/02-L2-G#4-140708_1103_mix_43\\\\564.pt', '../../Small_Dataset/data_pt_test/02-L2-G#4-140708_1103_mix_43\\\\565.pt', '../../Small_Dataset/data_pt_test/02-L2-G#4-140708_1103_mix_43\\\\566.pt', '../../Small_Dataset/data_pt_test/02-L2-G#4-140708_1103_mix_43\\\\567.pt', '../../Small_Dataset/data_pt_test/02-L2-G#4-140708_1103_mix_43\\\\568.pt', '../../Small_Dataset/data_pt_test/02-L2-G#4-140708_1103_mix_43\\\\569.pt', '../../Small_Dataset/data_pt_test/02-L2-G#4-140708_1103_mix_43\\\\57.pt', '../../Small_Dataset/data_pt_test/02-L2-G#4-140708_1103_mix_43\\\\570.pt', '../../Small_Dataset/data_pt_test/02-L2-G#4-140708_1103_mix_43\\\\571.pt', '../../Small_Dataset/data_pt_test/02-L2-G#4-140708_1103_mix_43\\\\572.pt', '../../Small_Dataset/data_pt_test/02-L2-G#4-140708_1103_mix_43\\\\573.pt', '../../Small_Dataset/data_pt_test/02-L2-G#4-140708_1103_mix_43\\\\574.pt', '../../Small_Dataset/data_pt_test/02-L2-G#4-140708_1103_mix_43\\\\575.pt', '../../Small_Dataset/data_pt_test/02-L2-G#4-140708_1103_mix_43\\\\576.pt', '../../Small_Dataset/data_pt_test/02-L2-G#4-140708_1103_mix_43\\\\577.pt', '../../Small_Dataset/data_pt_test/02-L2-G#4-140708_1103_mix_43\\\\578.pt', '../../Small_Dataset/data_pt_test/02-L2-G#4-140708_1103_mix_43\\\\579.pt', '../../Small_Dataset/data_pt_test/02-L2-G#4-140708_1103_mix_43\\\\58.pt', '../../Small_Dataset/data_pt_test/02-L2-G#4-140708_1103_mix_43\\\\580.pt', '../../Small_Dataset/data_pt_test/02-L2-G#4-140708_1103_mix_43\\\\581.pt', '../../Small_Dataset/data_pt_test/02-L2-G#4-140708_1103_mix_43\\\\582.pt', '../../Small_Dataset/data_pt_test/02-L2-G#4-140708_1103_mix_43\\\\583.pt', '../../Small_Dataset/data_pt_test/02-L2-G#4-140708_1103_mix_43\\\\584.pt', '../../Small_Dataset/data_pt_test/02-L2-G#4-140708_1103_mix_43\\\\585.pt', '../../Small_Dataset/data_pt_test/02-L2-G#4-140708_1103_mix_43\\\\586.pt', '../../Small_Dataset/data_pt_test/02-L2-G#4-140708_1103_mix_43\\\\587.pt', '../../Small_Dataset/data_pt_test/02-L2-G#4-140708_1103_mix_43\\\\588.pt', '../../Small_Dataset/data_pt_test/02-L2-G#4-140708_1103_mix_43\\\\589.pt', '../../Small_Dataset/data_pt_test/02-L2-G#4-140708_1103_mix_43\\\\59.pt', '../../Small_Dataset/data_pt_test/02-L2-G#4-140708_1103_mix_43\\\\590.pt', '../../Small_Dataset/data_pt_test/02-L2-G#4-140708_1103_mix_43\\\\591.pt', '../../Small_Dataset/data_pt_test/02-L2-G#4-140708_1103_mix_43\\\\592.pt', '../../Small_Dataset/data_pt_test/02-L2-G#4-140708_1103_mix_43\\\\593.pt', '../../Small_Dataset/data_pt_test/02-L2-G#4-140708_1103_mix_43\\\\594.pt', '../../Small_Dataset/data_pt_test/02-L2-G#4-140708_1103_mix_43\\\\595.pt', '../../Small_Dataset/data_pt_test/02-L2-G#4-140708_1103_mix_43\\\\596.pt', '../../Small_Dataset/data_pt_test/02-L2-G#4-140708_1103_mix_43\\\\597.pt', '../../Small_Dataset/data_pt_test/02-L2-G#4-140708_1103_mix_43\\\\598.pt', '../../Small_Dataset/data_pt_test/02-L2-G#4-140708_1103_mix_43\\\\599.pt', '../../Small_Dataset/data_pt_test/02-L2-G#4-140708_1103_mix_43\\\\6.pt', '../../Small_Dataset/data_pt_test/02-L2-G#4-140708_1103_mix_43\\\\60.pt', '../../Small_Dataset/data_pt_test/02-L2-G#4-140708_1103_mix_43\\\\600.pt', '../../Small_Dataset/data_pt_test/02-L2-G#4-140708_1103_mix_43\\\\601.pt', '../../Small_Dataset/data_pt_test/02-L2-G#4-140708_1103_mix_43\\\\602.pt', '../../Small_Dataset/data_pt_test/02-L2-G#4-140708_1103_mix_43\\\\603.pt', '../../Small_Dataset/data_pt_test/02-L2-G#4-140708_1103_mix_43\\\\604.pt', '../../Small_Dataset/data_pt_test/02-L2-G#4-140708_1103_mix_43\\\\605.pt', '../../Small_Dataset/data_pt_test/02-L2-G#4-140708_1103_mix_43\\\\606.pt', '../../Small_Dataset/data_pt_test/02-L2-G#4-140708_1103_mix_43\\\\607.pt', '../../Small_Dataset/data_pt_test/02-L2-G#4-140708_1103_mix_43\\\\608.pt', '../../Small_Dataset/data_pt_test/02-L2-G#4-140708_1103_mix_43\\\\609.pt', '../../Small_Dataset/data_pt_test/02-L2-G#4-140708_1103_mix_43\\\\61.pt', '../../Small_Dataset/data_pt_test/02-L2-G#4-140708_1103_mix_43\\\\610.pt', '../../Small_Dataset/data_pt_test/02-L2-G#4-140708_1103_mix_43\\\\611.pt', '../../Small_Dataset/data_pt_test/02-L2-G#4-140708_1103_mix_43\\\\612.pt', '../../Small_Dataset/data_pt_test/02-L2-G#4-140708_1103_mix_43\\\\613.pt', '../../Small_Dataset/data_pt_test/02-L2-G#4-140708_1103_mix_43\\\\614.pt', '../../Small_Dataset/data_pt_test/02-L2-G#4-140708_1103_mix_43\\\\615.pt', '../../Small_Dataset/data_pt_test/02-L2-G#4-140708_1103_mix_43\\\\616.pt', '../../Small_Dataset/data_pt_test/02-L2-G#4-140708_1103_mix_43\\\\617.pt', '../../Small_Dataset/data_pt_test/02-L2-G#4-140708_1103_mix_43\\\\618.pt', '../../Small_Dataset/data_pt_test/02-L2-G#4-140708_1103_mix_43\\\\619.pt', '../../Small_Dataset/data_pt_test/02-L2-G#4-140708_1103_mix_43\\\\62.pt', '../../Small_Dataset/data_pt_test/02-L2-G#4-140708_1103_mix_43\\\\620.pt', '../../Small_Dataset/data_pt_test/02-L2-G#4-140708_1103_mix_43\\\\621.pt', '../../Small_Dataset/data_pt_test/02-L2-G#4-140708_1103_mix_43\\\\622.pt', '../../Small_Dataset/data_pt_test/02-L2-G#4-140708_1103_mix_43\\\\623.pt', '../../Small_Dataset/data_pt_test/02-L2-G#4-140708_1103_mix_43\\\\624.pt', '../../Small_Dataset/data_pt_test/02-L2-G#4-140708_1103_mix_43\\\\625.pt', '../../Small_Dataset/data_pt_test/02-L2-G#4-140708_1103_mix_43\\\\626.pt', '../../Small_Dataset/data_pt_test/02-L2-G#4-140708_1103_mix_43\\\\627.pt', '../../Small_Dataset/data_pt_test/02-L2-G#4-140708_1103_mix_43\\\\628.pt', '../../Small_Dataset/data_pt_test/02-L2-G#4-140708_1103_mix_43\\\\629.pt', '../../Small_Dataset/data_pt_test/02-L2-G#4-140708_1103_mix_43\\\\63.pt', '../../Small_Dataset/data_pt_test/02-L2-G#4-140708_1103_mix_43\\\\630.pt', '../../Small_Dataset/data_pt_test/02-L2-G#4-140708_1103_mix_43\\\\631.pt', '../../Small_Dataset/data_pt_test/02-L2-G#4-140708_1103_mix_43\\\\632.pt', '../../Small_Dataset/data_pt_test/02-L2-G#4-140708_1103_mix_43\\\\633.pt', '../../Small_Dataset/data_pt_test/02-L2-G#4-140708_1103_mix_43\\\\634.pt', '../../Small_Dataset/data_pt_test/02-L2-G#4-140708_1103_mix_43\\\\635.pt', '../../Small_Dataset/data_pt_test/02-L2-G#4-140708_1103_mix_43\\\\636.pt', '../../Small_Dataset/data_pt_test/02-L2-G#4-140708_1103_mix_43\\\\637.pt', '../../Small_Dataset/data_pt_test/02-L2-G#4-140708_1103_mix_43\\\\638.pt', '../../Small_Dataset/data_pt_test/02-L2-G#4-140708_1103_mix_43\\\\639.pt', '../../Small_Dataset/data_pt_test/02-L2-G#4-140708_1103_mix_43\\\\64.pt', '../../Small_Dataset/data_pt_test/02-L2-G#4-140708_1103_mix_43\\\\640.pt', '../../Small_Dataset/data_pt_test/02-L2-G#4-140708_1103_mix_43\\\\641.pt', '../../Small_Dataset/data_pt_test/02-L2-G#4-140708_1103_mix_43\\\\642.pt', '../../Small_Dataset/data_pt_test/02-L2-G#4-140708_1103_mix_43\\\\643.pt', '../../Small_Dataset/data_pt_test/02-L2-G#4-140708_1103_mix_43\\\\644.pt', '../../Small_Dataset/data_pt_test/02-L2-G#4-140708_1103_mix_43\\\\645.pt', '../../Small_Dataset/data_pt_test/02-L2-G#4-140708_1103_mix_43\\\\646.pt', '../../Small_Dataset/data_pt_test/02-L2-G#4-140708_1103_mix_43\\\\647.pt', '../../Small_Dataset/data_pt_test/02-L2-G#4-140708_1103_mix_43\\\\648.pt', '../../Small_Dataset/data_pt_test/02-L2-G#4-140708_1103_mix_43\\\\649.pt', '../../Small_Dataset/data_pt_test/02-L2-G#4-140708_1103_mix_43\\\\65.pt', '../../Small_Dataset/data_pt_test/02-L2-G#4-140708_1103_mix_43\\\\650.pt', '../../Small_Dataset/data_pt_test/02-L2-G#4-140708_1103_mix_43\\\\651.pt', '../../Small_Dataset/data_pt_test/02-L2-G#4-140708_1103_mix_43\\\\652.pt', '../../Small_Dataset/data_pt_test/02-L2-G#4-140708_1103_mix_43\\\\653.pt', '../../Small_Dataset/data_pt_test/02-L2-G#4-140708_1103_mix_43\\\\654.pt', '../../Small_Dataset/data_pt_test/02-L2-G#4-140708_1103_mix_43\\\\655.pt', '../../Small_Dataset/data_pt_test/02-L2-G#4-140708_1103_mix_43\\\\656.pt', '../../Small_Dataset/data_pt_test/02-L2-G#4-140708_1103_mix_43\\\\657.pt', '../../Small_Dataset/data_pt_test/02-L2-G#4-140708_1103_mix_43\\\\658.pt', '../../Small_Dataset/data_pt_test/02-L2-G#4-140708_1103_mix_43\\\\659.pt', '../../Small_Dataset/data_pt_test/02-L2-G#4-140708_1103_mix_43\\\\66.pt', '../../Small_Dataset/data_pt_test/02-L2-G#4-140708_1103_mix_43\\\\660.pt', '../../Small_Dataset/data_pt_test/02-L2-G#4-140708_1103_mix_43\\\\661.pt', '../../Small_Dataset/data_pt_test/02-L2-G#4-140708_1103_mix_43\\\\662.pt', '../../Small_Dataset/data_pt_test/02-L2-G#4-140708_1103_mix_43\\\\663.pt', '../../Small_Dataset/data_pt_test/02-L2-G#4-140708_1103_mix_43\\\\664.pt', '../../Small_Dataset/data_pt_test/02-L2-G#4-140708_1103_mix_43\\\\665.pt', '../../Small_Dataset/data_pt_test/02-L2-G#4-140708_1103_mix_43\\\\666.pt', '../../Small_Dataset/data_pt_test/02-L2-G#4-140708_1103_mix_43\\\\667.pt', '../../Small_Dataset/data_pt_test/02-L2-G#4-140708_1103_mix_43\\\\668.pt', '../../Small_Dataset/data_pt_test/02-L2-G#4-140708_1103_mix_43\\\\669.pt', '../../Small_Dataset/data_pt_test/02-L2-G#4-140708_1103_mix_43\\\\67.pt', '../../Small_Dataset/data_pt_test/02-L2-G#4-140708_1103_mix_43\\\\670.pt', '../../Small_Dataset/data_pt_test/02-L2-G#4-140708_1103_mix_43\\\\671.pt', '../../Small_Dataset/data_pt_test/02-L2-G#4-140708_1103_mix_43\\\\672.pt', '../../Small_Dataset/data_pt_test/02-L2-G#4-140708_1103_mix_43\\\\673.pt', '../../Small_Dataset/data_pt_test/02-L2-G#4-140708_1103_mix_43\\\\674.pt', '../../Small_Dataset/data_pt_test/02-L2-G#4-140708_1103_mix_43\\\\675.pt', '../../Small_Dataset/data_pt_test/02-L2-G#4-140708_1103_mix_43\\\\676.pt', '../../Small_Dataset/data_pt_test/02-L2-G#4-140708_1103_mix_43\\\\677.pt', '../../Small_Dataset/data_pt_test/02-L2-G#4-140708_1103_mix_43\\\\678.pt', '../../Small_Dataset/data_pt_test/02-L2-G#4-140708_1103_mix_43\\\\679.pt', '../../Small_Dataset/data_pt_test/02-L2-G#4-140708_1103_mix_43\\\\68.pt', '../../Small_Dataset/data_pt_test/02-L2-G#4-140708_1103_mix_43\\\\680.pt', '../../Small_Dataset/data_pt_test/02-L2-G#4-140708_1103_mix_43\\\\681.pt', '../../Small_Dataset/data_pt_test/02-L2-G#4-140708_1103_mix_43\\\\682.pt', '../../Small_Dataset/data_pt_test/02-L2-G#4-140708_1103_mix_43\\\\683.pt', '../../Small_Dataset/data_pt_test/02-L2-G#4-140708_1103_mix_43\\\\684.pt', '../../Small_Dataset/data_pt_test/02-L2-G#4-140708_1103_mix_43\\\\685.pt', '../../Small_Dataset/data_pt_test/02-L2-G#4-140708_1103_mix_43\\\\686.pt', '../../Small_Dataset/data_pt_test/02-L2-G#4-140708_1103_mix_43\\\\687.pt', '../../Small_Dataset/data_pt_test/02-L2-G#4-140708_1103_mix_43\\\\688.pt', '../../Small_Dataset/data_pt_test/02-L2-G#4-140708_1103_mix_43\\\\689.pt', '../../Small_Dataset/data_pt_test/02-L2-G#4-140708_1103_mix_43\\\\69.pt', '../../Small_Dataset/data_pt_test/02-L2-G#4-140708_1103_mix_43\\\\690.pt', '../../Small_Dataset/data_pt_test/02-L2-G#4-140708_1103_mix_43\\\\691.pt', '../../Small_Dataset/data_pt_test/02-L2-G#4-140708_1103_mix_43\\\\692.pt', '../../Small_Dataset/data_pt_test/02-L2-G#4-140708_1103_mix_43\\\\693.pt', '../../Small_Dataset/data_pt_test/02-L2-G#4-140708_1103_mix_43\\\\694.pt', '../../Small_Dataset/data_pt_test/02-L2-G#4-140708_1103_mix_43\\\\695.pt', '../../Small_Dataset/data_pt_test/02-L2-G#4-140708_1103_mix_43\\\\696.pt', '../../Small_Dataset/data_pt_test/02-L2-G#4-140708_1103_mix_43\\\\697.pt', '../../Small_Dataset/data_pt_test/02-L2-G#4-140708_1103_mix_43\\\\698.pt', '../../Small_Dataset/data_pt_test/02-L2-G#4-140708_1103_mix_43\\\\699.pt', '../../Small_Dataset/data_pt_test/02-L2-G#4-140708_1103_mix_43\\\\7.pt', '../../Small_Dataset/data_pt_test/02-L2-G#4-140708_1103_mix_43\\\\70.pt', '../../Small_Dataset/data_pt_test/02-L2-G#4-140708_1103_mix_43\\\\700.pt', '../../Small_Dataset/data_pt_test/02-L2-G#4-140708_1103_mix_43\\\\701.pt', '../../Small_Dataset/data_pt_test/02-L2-G#4-140708_1103_mix_43\\\\702.pt', '../../Small_Dataset/data_pt_test/02-L2-G#4-140708_1103_mix_43\\\\703.pt', '../../Small_Dataset/data_pt_test/02-L2-G#4-140708_1103_mix_43\\\\704.pt', '../../Small_Dataset/data_pt_test/02-L2-G#4-140708_1103_mix_43\\\\705.pt', '../../Small_Dataset/data_pt_test/02-L2-G#4-140708_1103_mix_43\\\\706.pt', '../../Small_Dataset/data_pt_test/02-L2-G#4-140708_1103_mix_43\\\\707.pt', '../../Small_Dataset/data_pt_test/02-L2-G#4-140708_1103_mix_43\\\\708.pt', '../../Small_Dataset/data_pt_test/02-L2-G#4-140708_1103_mix_43\\\\709.pt', '../../Small_Dataset/data_pt_test/02-L2-G#4-140708_1103_mix_43\\\\71.pt', '../../Small_Dataset/data_pt_test/02-L2-G#4-140708_1103_mix_43\\\\710.pt', '../../Small_Dataset/data_pt_test/02-L2-G#4-140708_1103_mix_43\\\\711.pt', '../../Small_Dataset/data_pt_test/02-L2-G#4-140708_1103_mix_43\\\\712.pt', '../../Small_Dataset/data_pt_test/02-L2-G#4-140708_1103_mix_43\\\\713.pt', '../../Small_Dataset/data_pt_test/02-L2-G#4-140708_1103_mix_43\\\\714.pt', '../../Small_Dataset/data_pt_test/02-L2-G#4-140708_1103_mix_43\\\\715.pt', '../../Small_Dataset/data_pt_test/02-L2-G#4-140708_1103_mix_43\\\\716.pt', '../../Small_Dataset/data_pt_test/02-L2-G#4-140708_1103_mix_43\\\\717.pt', '../../Small_Dataset/data_pt_test/02-L2-G#4-140708_1103_mix_43\\\\718.pt', '../../Small_Dataset/data_pt_test/02-L2-G#4-140708_1103_mix_43\\\\719.pt', '../../Small_Dataset/data_pt_test/02-L2-G#4-140708_1103_mix_43\\\\72.pt', '../../Small_Dataset/data_pt_test/02-L2-G#4-140708_1103_mix_43\\\\720.pt', '../../Small_Dataset/data_pt_test/02-L2-G#4-140708_1103_mix_43\\\\721.pt', '../../Small_Dataset/data_pt_test/02-L2-G#4-140708_1103_mix_43\\\\722.pt', '../../Small_Dataset/data_pt_test/02-L2-G#4-140708_1103_mix_43\\\\723.pt', '../../Small_Dataset/data_pt_test/02-L2-G#4-140708_1103_mix_43\\\\724.pt', '../../Small_Dataset/data_pt_test/02-L2-G#4-140708_1103_mix_43\\\\725.pt', '../../Small_Dataset/data_pt_test/02-L2-G#4-140708_1103_mix_43\\\\726.pt', '../../Small_Dataset/data_pt_test/02-L2-G#4-140708_1103_mix_43\\\\727.pt', '../../Small_Dataset/data_pt_test/02-L2-G#4-140708_1103_mix_43\\\\728.pt', '../../Small_Dataset/data_pt_test/02-L2-G#4-140708_1103_mix_43\\\\729.pt', '../../Small_Dataset/data_pt_test/02-L2-G#4-140708_1103_mix_43\\\\73.pt', '../../Small_Dataset/data_pt_test/02-L2-G#4-140708_1103_mix_43\\\\730.pt', '../../Small_Dataset/data_pt_test/02-L2-G#4-140708_1103_mix_43\\\\731.pt', '../../Small_Dataset/data_pt_test/02-L2-G#4-140708_1103_mix_43\\\\732.pt', '../../Small_Dataset/data_pt_test/02-L2-G#4-140708_1103_mix_43\\\\733.pt', '../../Small_Dataset/data_pt_test/02-L2-G#4-140708_1103_mix_43\\\\734.pt', '../../Small_Dataset/data_pt_test/02-L2-G#4-140708_1103_mix_43\\\\735.pt', '../../Small_Dataset/data_pt_test/02-L2-G#4-140708_1103_mix_43\\\\736.pt', '../../Small_Dataset/data_pt_test/02-L2-G#4-140708_1103_mix_43\\\\737.pt', '../../Small_Dataset/data_pt_test/02-L2-G#4-140708_1103_mix_43\\\\738.pt', '../../Small_Dataset/data_pt_test/02-L2-G#4-140708_1103_mix_43\\\\739.pt', '../../Small_Dataset/data_pt_test/02-L2-G#4-140708_1103_mix_43\\\\74.pt', '../../Small_Dataset/data_pt_test/02-L2-G#4-140708_1103_mix_43\\\\740.pt', '../../Small_Dataset/data_pt_test/02-L2-G#4-140708_1103_mix_43\\\\741.pt', '../../Small_Dataset/data_pt_test/02-L2-G#4-140708_1103_mix_43\\\\742.pt', '../../Small_Dataset/data_pt_test/02-L2-G#4-140708_1103_mix_43\\\\743.pt', '../../Small_Dataset/data_pt_test/02-L2-G#4-140708_1103_mix_43\\\\744.pt', '../../Small_Dataset/data_pt_test/02-L2-G#4-140708_1103_mix_43\\\\745.pt', '../../Small_Dataset/data_pt_test/02-L2-G#4-140708_1103_mix_43\\\\746.pt', '../../Small_Dataset/data_pt_test/02-L2-G#4-140708_1103_mix_43\\\\747.pt', '../../Small_Dataset/data_pt_test/02-L2-G#4-140708_1103_mix_43\\\\748.pt', '../../Small_Dataset/data_pt_test/02-L2-G#4-140708_1103_mix_43\\\\749.pt', '../../Small_Dataset/data_pt_test/02-L2-G#4-140708_1103_mix_43\\\\75.pt', '../../Small_Dataset/data_pt_test/02-L2-G#4-140708_1103_mix_43\\\\750.pt', '../../Small_Dataset/data_pt_test/02-L2-G#4-140708_1103_mix_43\\\\751.pt', '../../Small_Dataset/data_pt_test/02-L2-G#4-140708_1103_mix_43\\\\752.pt', '../../Small_Dataset/data_pt_test/02-L2-G#4-140708_1103_mix_43\\\\753.pt', '../../Small_Dataset/data_pt_test/02-L2-G#4-140708_1103_mix_43\\\\754.pt', '../../Small_Dataset/data_pt_test/02-L2-G#4-140708_1103_mix_43\\\\755.pt', '../../Small_Dataset/data_pt_test/02-L2-G#4-140708_1103_mix_43\\\\756.pt', '../../Small_Dataset/data_pt_test/02-L2-G#4-140708_1103_mix_43\\\\757.pt', '../../Small_Dataset/data_pt_test/02-L2-G#4-140708_1103_mix_43\\\\758.pt', '../../Small_Dataset/data_pt_test/02-L2-G#4-140708_1103_mix_43\\\\759.pt', '../../Small_Dataset/data_pt_test/02-L2-G#4-140708_1103_mix_43\\\\76.pt', '../../Small_Dataset/data_pt_test/02-L2-G#4-140708_1103_mix_43\\\\760.pt', '../../Small_Dataset/data_pt_test/02-L2-G#4-140708_1103_mix_43\\\\761.pt', '../../Small_Dataset/data_pt_test/02-L2-G#4-140708_1103_mix_43\\\\762.pt', '../../Small_Dataset/data_pt_test/02-L2-G#4-140708_1103_mix_43\\\\763.pt', '../../Small_Dataset/data_pt_test/02-L2-G#4-140708_1103_mix_43\\\\764.pt', '../../Small_Dataset/data_pt_test/02-L2-G#4-140708_1103_mix_43\\\\765.pt', '../../Small_Dataset/data_pt_test/02-L2-G#4-140708_1103_mix_43\\\\766.pt', '../../Small_Dataset/data_pt_test/02-L2-G#4-140708_1103_mix_43\\\\767.pt', '../../Small_Dataset/data_pt_test/02-L2-G#4-140708_1103_mix_43\\\\768.pt', '../../Small_Dataset/data_pt_test/02-L2-G#4-140708_1103_mix_43\\\\769.pt', '../../Small_Dataset/data_pt_test/02-L2-G#4-140708_1103_mix_43\\\\77.pt', '../../Small_Dataset/data_pt_test/02-L2-G#4-140708_1103_mix_43\\\\770.pt', '../../Small_Dataset/data_pt_test/02-L2-G#4-140708_1103_mix_43\\\\771.pt', '../../Small_Dataset/data_pt_test/02-L2-G#4-140708_1103_mix_43\\\\772.pt', '../../Small_Dataset/data_pt_test/02-L2-G#4-140708_1103_mix_43\\\\773.pt', '../../Small_Dataset/data_pt_test/02-L2-G#4-140708_1103_mix_43\\\\774.pt', '../../Small_Dataset/data_pt_test/02-L2-G#4-140708_1103_mix_43\\\\775.pt', '../../Small_Dataset/data_pt_test/02-L2-G#4-140708_1103_mix_43\\\\776.pt', '../../Small_Dataset/data_pt_test/02-L2-G#4-140708_1103_mix_43\\\\777.pt', '../../Small_Dataset/data_pt_test/02-L2-G#4-140708_1103_mix_43\\\\778.pt', '../../Small_Dataset/data_pt_test/02-L2-G#4-140708_1103_mix_43\\\\779.pt', '../../Small_Dataset/data_pt_test/02-L2-G#4-140708_1103_mix_43\\\\78.pt', '../../Small_Dataset/data_pt_test/02-L2-G#4-140708_1103_mix_43\\\\780.pt', '../../Small_Dataset/data_pt_test/02-L2-G#4-140708_1103_mix_43\\\\781.pt', '../../Small_Dataset/data_pt_test/02-L2-G#4-140708_1103_mix_43\\\\782.pt', '../../Small_Dataset/data_pt_test/02-L2-G#4-140708_1103_mix_43\\\\783.pt', '../../Small_Dataset/data_pt_test/02-L2-G#4-140708_1103_mix_43\\\\784.pt', '../../Small_Dataset/data_pt_test/02-L2-G#4-140708_1103_mix_43\\\\785.pt', '../../Small_Dataset/data_pt_test/02-L2-G#4-140708_1103_mix_43\\\\786.pt', '../../Small_Dataset/data_pt_test/02-L2-G#4-140708_1103_mix_43\\\\787.pt', '../../Small_Dataset/data_pt_test/02-L2-G#4-140708_1103_mix_43\\\\788.pt', '../../Small_Dataset/data_pt_test/02-L2-G#4-140708_1103_mix_43\\\\789.pt', '../../Small_Dataset/data_pt_test/02-L2-G#4-140708_1103_mix_43\\\\79.pt', '../../Small_Dataset/data_pt_test/02-L2-G#4-140708_1103_mix_43\\\\790.pt', '../../Small_Dataset/data_pt_test/02-L2-G#4-140708_1103_mix_43\\\\791.pt', '../../Small_Dataset/data_pt_test/02-L2-G#4-140708_1103_mix_43\\\\792.pt', '../../Small_Dataset/data_pt_test/02-L2-G#4-140708_1103_mix_43\\\\793.pt', '../../Small_Dataset/data_pt_test/02-L2-G#4-140708_1103_mix_43\\\\794.pt', '../../Small_Dataset/data_pt_test/02-L2-G#4-140708_1103_mix_43\\\\795.pt', '../../Small_Dataset/data_pt_test/02-L2-G#4-140708_1103_mix_43\\\\796.pt', '../../Small_Dataset/data_pt_test/02-L2-G#4-140708_1103_mix_43\\\\797.pt', '../../Small_Dataset/data_pt_test/02-L2-G#4-140708_1103_mix_43\\\\798.pt', '../../Small_Dataset/data_pt_test/02-L2-G#4-140708_1103_mix_43\\\\799.pt', '../../Small_Dataset/data_pt_test/02-L2-G#4-140708_1103_mix_43\\\\8.pt', '../../Small_Dataset/data_pt_test/02-L2-G#4-140708_1103_mix_43\\\\80.pt', '../../Small_Dataset/data_pt_test/02-L2-G#4-140708_1103_mix_43\\\\800.pt', '../../Small_Dataset/data_pt_test/02-L2-G#4-140708_1103_mix_43\\\\801.pt', '../../Small_Dataset/data_pt_test/02-L2-G#4-140708_1103_mix_43\\\\802.pt', '../../Small_Dataset/data_pt_test/02-L2-G#4-140708_1103_mix_43\\\\803.pt', '../../Small_Dataset/data_pt_test/02-L2-G#4-140708_1103_mix_43\\\\804.pt', '../../Small_Dataset/data_pt_test/02-L2-G#4-140708_1103_mix_43\\\\805.pt', '../../Small_Dataset/data_pt_test/02-L2-G#4-140708_1103_mix_43\\\\806.pt', '../../Small_Dataset/data_pt_test/02-L2-G#4-140708_1103_mix_43\\\\807.pt', '../../Small_Dataset/data_pt_test/02-L2-G#4-140708_1103_mix_43\\\\808.pt', '../../Small_Dataset/data_pt_test/02-L2-G#4-140708_1103_mix_43\\\\809.pt', '../../Small_Dataset/data_pt_test/02-L2-G#4-140708_1103_mix_43\\\\81.pt', '../../Small_Dataset/data_pt_test/02-L2-G#4-140708_1103_mix_43\\\\810.pt', '../../Small_Dataset/data_pt_test/02-L2-G#4-140708_1103_mix_43\\\\811.pt', '../../Small_Dataset/data_pt_test/02-L2-G#4-140708_1103_mix_43\\\\812.pt', '../../Small_Dataset/data_pt_test/02-L2-G#4-140708_1103_mix_43\\\\813.pt', '../../Small_Dataset/data_pt_test/02-L2-G#4-140708_1103_mix_43\\\\814.pt', '../../Small_Dataset/data_pt_test/02-L2-G#4-140708_1103_mix_43\\\\815.pt', '../../Small_Dataset/data_pt_test/02-L2-G#4-140708_1103_mix_43\\\\816.pt', '../../Small_Dataset/data_pt_test/02-L2-G#4-140708_1103_mix_43\\\\817.pt', '../../Small_Dataset/data_pt_test/02-L2-G#4-140708_1103_mix_43\\\\818.pt', '../../Small_Dataset/data_pt_test/02-L2-G#4-140708_1103_mix_43\\\\819.pt', '../../Small_Dataset/data_pt_test/02-L2-G#4-140708_1103_mix_43\\\\82.pt', '../../Small_Dataset/data_pt_test/02-L2-G#4-140708_1103_mix_43\\\\820.pt', '../../Small_Dataset/data_pt_test/02-L2-G#4-140708_1103_mix_43\\\\821.pt', '../../Small_Dataset/data_pt_test/02-L2-G#4-140708_1103_mix_43\\\\822.pt', '../../Small_Dataset/data_pt_test/02-L2-G#4-140708_1103_mix_43\\\\823.pt', '../../Small_Dataset/data_pt_test/02-L2-G#4-140708_1103_mix_43\\\\824.pt', '../../Small_Dataset/data_pt_test/02-L2-G#4-140708_1103_mix_43\\\\825.pt', '../../Small_Dataset/data_pt_test/02-L2-G#4-140708_1103_mix_43\\\\826.pt', '../../Small_Dataset/data_pt_test/02-L2-G#4-140708_1103_mix_43\\\\827.pt', '../../Small_Dataset/data_pt_test/02-L2-G#4-140708_1103_mix_43\\\\828.pt', '../../Small_Dataset/data_pt_test/02-L2-G#4-140708_1103_mix_43\\\\829.pt', '../../Small_Dataset/data_pt_test/02-L2-G#4-140708_1103_mix_43\\\\83.pt', '../../Small_Dataset/data_pt_test/02-L2-G#4-140708_1103_mix_43\\\\830.pt', '../../Small_Dataset/data_pt_test/02-L2-G#4-140708_1103_mix_43\\\\831.pt', '../../Small_Dataset/data_pt_test/02-L2-G#4-140708_1103_mix_43\\\\832.pt', '../../Small_Dataset/data_pt_test/02-L2-G#4-140708_1103_mix_43\\\\833.pt', '../../Small_Dataset/data_pt_test/02-L2-G#4-140708_1103_mix_43\\\\834.pt', '../../Small_Dataset/data_pt_test/02-L2-G#4-140708_1103_mix_43\\\\835.pt', '../../Small_Dataset/data_pt_test/02-L2-G#4-140708_1103_mix_43\\\\836.pt', '../../Small_Dataset/data_pt_test/02-L2-G#4-140708_1103_mix_43\\\\837.pt', '../../Small_Dataset/data_pt_test/02-L2-G#4-140708_1103_mix_43\\\\838.pt', '../../Small_Dataset/data_pt_test/02-L2-G#4-140708_1103_mix_43\\\\839.pt', '../../Small_Dataset/data_pt_test/02-L2-G#4-140708_1103_mix_43\\\\84.pt', '../../Small_Dataset/data_pt_test/02-L2-G#4-140708_1103_mix_43\\\\840.pt', '../../Small_Dataset/data_pt_test/02-L2-G#4-140708_1103_mix_43\\\\841.pt', '../../Small_Dataset/data_pt_test/02-L2-G#4-140708_1103_mix_43\\\\842.pt', '../../Small_Dataset/data_pt_test/02-L2-G#4-140708_1103_mix_43\\\\843.pt', '../../Small_Dataset/data_pt_test/02-L2-G#4-140708_1103_mix_43\\\\844.pt', '../../Small_Dataset/data_pt_test/02-L2-G#4-140708_1103_mix_43\\\\845.pt', '../../Small_Dataset/data_pt_test/02-L2-G#4-140708_1103_mix_43\\\\846.pt', '../../Small_Dataset/data_pt_test/02-L2-G#4-140708_1103_mix_43\\\\847.pt', '../../Small_Dataset/data_pt_test/02-L2-G#4-140708_1103_mix_43\\\\848.pt', '../../Small_Dataset/data_pt_test/02-L2-G#4-140708_1103_mix_43\\\\849.pt', '../../Small_Dataset/data_pt_test/02-L2-G#4-140708_1103_mix_43\\\\85.pt', '../../Small_Dataset/data_pt_test/02-L2-G#4-140708_1103_mix_43\\\\850.pt', '../../Small_Dataset/data_pt_test/02-L2-G#4-140708_1103_mix_43\\\\851.pt', '../../Small_Dataset/data_pt_test/02-L2-G#4-140708_1103_mix_43\\\\852.pt', '../../Small_Dataset/data_pt_test/02-L2-G#4-140708_1103_mix_43\\\\853.pt', '../../Small_Dataset/data_pt_test/02-L2-G#4-140708_1103_mix_43\\\\854.pt', '../../Small_Dataset/data_pt_test/02-L2-G#4-140708_1103_mix_43\\\\855.pt', '../../Small_Dataset/data_pt_test/02-L2-G#4-140708_1103_mix_43\\\\856.pt', '../../Small_Dataset/data_pt_test/02-L2-G#4-140708_1103_mix_43\\\\857.pt', '../../Small_Dataset/data_pt_test/02-L2-G#4-140708_1103_mix_43\\\\858.pt', '../../Small_Dataset/data_pt_test/02-L2-G#4-140708_1103_mix_43\\\\859.pt', '../../Small_Dataset/data_pt_test/02-L2-G#4-140708_1103_mix_43\\\\86.pt', '../../Small_Dataset/data_pt_test/02-L2-G#4-140708_1103_mix_43\\\\860.pt', '../../Small_Dataset/data_pt_test/02-L2-G#4-140708_1103_mix_43\\\\861.pt', '../../Small_Dataset/data_pt_test/02-L2-G#4-140708_1103_mix_43\\\\862.pt', '../../Small_Dataset/data_pt_test/02-L2-G#4-140708_1103_mix_43\\\\863.pt', '../../Small_Dataset/data_pt_test/02-L2-G#4-140708_1103_mix_43\\\\864.pt', '../../Small_Dataset/data_pt_test/02-L2-G#4-140708_1103_mix_43\\\\865.pt', '../../Small_Dataset/data_pt_test/02-L2-G#4-140708_1103_mix_43\\\\866.pt', '../../Small_Dataset/data_pt_test/02-L2-G#4-140708_1103_mix_43\\\\867.pt', '../../Small_Dataset/data_pt_test/02-L2-G#4-140708_1103_mix_43\\\\868.pt', '../../Small_Dataset/data_pt_test/02-L2-G#4-140708_1103_mix_43\\\\869.pt', '../../Small_Dataset/data_pt_test/02-L2-G#4-140708_1103_mix_43\\\\87.pt', '../../Small_Dataset/data_pt_test/02-L2-G#4-140708_1103_mix_43\\\\870.pt', '../../Small_Dataset/data_pt_test/02-L2-G#4-140708_1103_mix_43\\\\871.pt', '../../Small_Dataset/data_pt_test/02-L2-G#4-140708_1103_mix_43\\\\872.pt', '../../Small_Dataset/data_pt_test/02-L2-G#4-140708_1103_mix_43\\\\873.pt', '../../Small_Dataset/data_pt_test/02-L2-G#4-140708_1103_mix_43\\\\874.pt', '../../Small_Dataset/data_pt_test/02-L2-G#4-140708_1103_mix_43\\\\875.pt', '../../Small_Dataset/data_pt_test/02-L2-G#4-140708_1103_mix_43\\\\876.pt', '../../Small_Dataset/data_pt_test/02-L2-G#4-140708_1103_mix_43\\\\877.pt', '../../Small_Dataset/data_pt_test/02-L2-G#4-140708_1103_mix_43\\\\878.pt', '../../Small_Dataset/data_pt_test/02-L2-G#4-140708_1103_mix_43\\\\879.pt', '../../Small_Dataset/data_pt_test/02-L2-G#4-140708_1103_mix_43\\\\88.pt', '../../Small_Dataset/data_pt_test/02-L2-G#4-140708_1103_mix_43\\\\880.pt', '../../Small_Dataset/data_pt_test/02-L2-G#4-140708_1103_mix_43\\\\881.pt', '../../Small_Dataset/data_pt_test/02-L2-G#4-140708_1103_mix_43\\\\882.pt', '../../Small_Dataset/data_pt_test/02-L2-G#4-140708_1103_mix_43\\\\883.pt', '../../Small_Dataset/data_pt_test/02-L2-G#4-140708_1103_mix_43\\\\884.pt', '../../Small_Dataset/data_pt_test/02-L2-G#4-140708_1103_mix_43\\\\885.pt', '../../Small_Dataset/data_pt_test/02-L2-G#4-140708_1103_mix_43\\\\886.pt', '../../Small_Dataset/data_pt_test/02-L2-G#4-140708_1103_mix_43\\\\887.pt', '../../Small_Dataset/data_pt_test/02-L2-G#4-140708_1103_mix_43\\\\888.pt', '../../Small_Dataset/data_pt_test/02-L2-G#4-140708_1103_mix_43\\\\889.pt', '../../Small_Dataset/data_pt_test/02-L2-G#4-140708_1103_mix_43\\\\89.pt', '../../Small_Dataset/data_pt_test/02-L2-G#4-140708_1103_mix_43\\\\890.pt', '../../Small_Dataset/data_pt_test/02-L2-G#4-140708_1103_mix_43\\\\891.pt', '../../Small_Dataset/data_pt_test/02-L2-G#4-140708_1103_mix_43\\\\892.pt', '../../Small_Dataset/data_pt_test/02-L2-G#4-140708_1103_mix_43\\\\893.pt', '../../Small_Dataset/data_pt_test/02-L2-G#4-140708_1103_mix_43\\\\894.pt', '../../Small_Dataset/data_pt_test/02-L2-G#4-140708_1103_mix_43\\\\895.pt', '../../Small_Dataset/data_pt_test/02-L2-G#4-140708_1103_mix_43\\\\896.pt', '../../Small_Dataset/data_pt_test/02-L2-G#4-140708_1103_mix_43\\\\897.pt', '../../Small_Dataset/data_pt_test/02-L2-G#4-140708_1103_mix_43\\\\898.pt', '../../Small_Dataset/data_pt_test/02-L2-G#4-140708_1103_mix_43\\\\899.pt', '../../Small_Dataset/data_pt_test/02-L2-G#4-140708_1103_mix_43\\\\9.pt', '../../Small_Dataset/data_pt_test/02-L2-G#4-140708_1103_mix_43\\\\90.pt', '../../Small_Dataset/data_pt_test/02-L2-G#4-140708_1103_mix_43\\\\900.pt', '../../Small_Dataset/data_pt_test/02-L2-G#4-140708_1103_mix_43\\\\901.pt', '../../Small_Dataset/data_pt_test/02-L2-G#4-140708_1103_mix_43\\\\902.pt', '../../Small_Dataset/data_pt_test/02-L2-G#4-140708_1103_mix_43\\\\903.pt', '../../Small_Dataset/data_pt_test/02-L2-G#4-140708_1103_mix_43\\\\904.pt', '../../Small_Dataset/data_pt_test/02-L2-G#4-140708_1103_mix_43\\\\905.pt', '../../Small_Dataset/data_pt_test/02-L2-G#4-140708_1103_mix_43\\\\906.pt', '../../Small_Dataset/data_pt_test/02-L2-G#4-140708_1103_mix_43\\\\907.pt', '../../Small_Dataset/data_pt_test/02-L2-G#4-140708_1103_mix_43\\\\908.pt', '../../Small_Dataset/data_pt_test/02-L2-G#4-140708_1103_mix_43\\\\909.pt', '../../Small_Dataset/data_pt_test/02-L2-G#4-140708_1103_mix_43\\\\91.pt', '../../Small_Dataset/data_pt_test/02-L2-G#4-140708_1103_mix_43\\\\910.pt', '../../Small_Dataset/data_pt_test/02-L2-G#4-140708_1103_mix_43\\\\911.pt', '../../Small_Dataset/data_pt_test/02-L2-G#4-140708_1103_mix_43\\\\912.pt', '../../Small_Dataset/data_pt_test/02-L2-G#4-140708_1103_mix_43\\\\913.pt', '../../Small_Dataset/data_pt_test/02-L2-G#4-140708_1103_mix_43\\\\914.pt', '../../Small_Dataset/data_pt_test/02-L2-G#4-140708_1103_mix_43\\\\915.pt', '../../Small_Dataset/data_pt_test/02-L2-G#4-140708_1103_mix_43\\\\916.pt', '../../Small_Dataset/data_pt_test/02-L2-G#4-140708_1103_mix_43\\\\917.pt', '../../Small_Dataset/data_pt_test/02-L2-G#4-140708_1103_mix_43\\\\918.pt', '../../Small_Dataset/data_pt_test/02-L2-G#4-140708_1103_mix_43\\\\919.pt', '../../Small_Dataset/data_pt_test/02-L2-G#4-140708_1103_mix_43\\\\92.pt', '../../Small_Dataset/data_pt_test/02-L2-G#4-140708_1103_mix_43\\\\920.pt', '../../Small_Dataset/data_pt_test/02-L2-G#4-140708_1103_mix_43\\\\921.pt', '../../Small_Dataset/data_pt_test/02-L2-G#4-140708_1103_mix_43\\\\922.pt', '../../Small_Dataset/data_pt_test/02-L2-G#4-140708_1103_mix_43\\\\923.pt', '../../Small_Dataset/data_pt_test/02-L2-G#4-140708_1103_mix_43\\\\924.pt', '../../Small_Dataset/data_pt_test/02-L2-G#4-140708_1103_mix_43\\\\925.pt', '../../Small_Dataset/data_pt_test/02-L2-G#4-140708_1103_mix_43\\\\926.pt', '../../Small_Dataset/data_pt_test/02-L2-G#4-140708_1103_mix_43\\\\927.pt', '../../Small_Dataset/data_pt_test/02-L2-G#4-140708_1103_mix_43\\\\928.pt', '../../Small_Dataset/data_pt_test/02-L2-G#4-140708_1103_mix_43\\\\929.pt', '../../Small_Dataset/data_pt_test/02-L2-G#4-140708_1103_mix_43\\\\93.pt', '../../Small_Dataset/data_pt_test/02-L2-G#4-140708_1103_mix_43\\\\930.pt', '../../Small_Dataset/data_pt_test/02-L2-G#4-140708_1103_mix_43\\\\931.pt', '../../Small_Dataset/data_pt_test/02-L2-G#4-140708_1103_mix_43\\\\932.pt', '../../Small_Dataset/data_pt_test/02-L2-G#4-140708_1103_mix_43\\\\933.pt', '../../Small_Dataset/data_pt_test/02-L2-G#4-140708_1103_mix_43\\\\934.pt', '../../Small_Dataset/data_pt_test/02-L2-G#4-140708_1103_mix_43\\\\935.pt', '../../Small_Dataset/data_pt_test/02-L2-G#4-140708_1103_mix_43\\\\936.pt', '../../Small_Dataset/data_pt_test/02-L2-G#4-140708_1103_mix_43\\\\937.pt', '../../Small_Dataset/data_pt_test/02-L2-G#4-140708_1103_mix_43\\\\938.pt', '../../Small_Dataset/data_pt_test/02-L2-G#4-140708_1103_mix_43\\\\939.pt', '../../Small_Dataset/data_pt_test/02-L2-G#4-140708_1103_mix_43\\\\94.pt', '../../Small_Dataset/data_pt_test/02-L2-G#4-140708_1103_mix_43\\\\940.pt', '../../Small_Dataset/data_pt_test/02-L2-G#4-140708_1103_mix_43\\\\941.pt', '../../Small_Dataset/data_pt_test/02-L2-G#4-140708_1103_mix_43\\\\942.pt', '../../Small_Dataset/data_pt_test/02-L2-G#4-140708_1103_mix_43\\\\943.pt', '../../Small_Dataset/data_pt_test/02-L2-G#4-140708_1103_mix_43\\\\944.pt', '../../Small_Dataset/data_pt_test/02-L2-G#4-140708_1103_mix_43\\\\945.pt', '../../Small_Dataset/data_pt_test/02-L2-G#4-140708_1103_mix_43\\\\946.pt', '../../Small_Dataset/data_pt_test/02-L2-G#4-140708_1103_mix_43\\\\947.pt', '../../Small_Dataset/data_pt_test/02-L2-G#4-140708_1103_mix_43\\\\948.pt', '../../Small_Dataset/data_pt_test/02-L2-G#4-140708_1103_mix_43\\\\949.pt', '../../Small_Dataset/data_pt_test/02-L2-G#4-140708_1103_mix_43\\\\95.pt', '../../Small_Dataset/data_pt_test/02-L2-G#4-140708_1103_mix_43\\\\950.pt', '../../Small_Dataset/data_pt_test/02-L2-G#4-140708_1103_mix_43\\\\951.pt', '../../Small_Dataset/data_pt_test/02-L2-G#4-140708_1103_mix_43\\\\952.pt', '../../Small_Dataset/data_pt_test/02-L2-G#4-140708_1103_mix_43\\\\953.pt', '../../Small_Dataset/data_pt_test/02-L2-G#4-140708_1103_mix_43\\\\954.pt', '../../Small_Dataset/data_pt_test/02-L2-G#4-140708_1103_mix_43\\\\955.pt', '../../Small_Dataset/data_pt_test/02-L2-G#4-140708_1103_mix_43\\\\956.pt', '../../Small_Dataset/data_pt_test/02-L2-G#4-140708_1103_mix_43\\\\957.pt', '../../Small_Dataset/data_pt_test/02-L2-G#4-140708_1103_mix_43\\\\958.pt', '../../Small_Dataset/data_pt_test/02-L2-G#4-140708_1103_mix_43\\\\959.pt', '../../Small_Dataset/data_pt_test/02-L2-G#4-140708_1103_mix_43\\\\96.pt', '../../Small_Dataset/data_pt_test/02-L2-G#4-140708_1103_mix_43\\\\960.pt', '../../Small_Dataset/data_pt_test/02-L2-G#4-140708_1103_mix_43\\\\961.pt', '../../Small_Dataset/data_pt_test/02-L2-G#4-140708_1103_mix_43\\\\962.pt', '../../Small_Dataset/data_pt_test/02-L2-G#4-140708_1103_mix_43\\\\963.pt', '../../Small_Dataset/data_pt_test/02-L2-G#4-140708_1103_mix_43\\\\964.pt', '../../Small_Dataset/data_pt_test/02-L2-G#4-140708_1103_mix_43\\\\965.pt', '../../Small_Dataset/data_pt_test/02-L2-G#4-140708_1103_mix_43\\\\966.pt', '../../Small_Dataset/data_pt_test/02-L2-G#4-140708_1103_mix_43\\\\967.pt', '../../Small_Dataset/data_pt_test/02-L2-G#4-140708_1103_mix_43\\\\968.pt', '../../Small_Dataset/data_pt_test/02-L2-G#4-140708_1103_mix_43\\\\969.pt', '../../Small_Dataset/data_pt_test/02-L2-G#4-140708_1103_mix_43\\\\97.pt', '../../Small_Dataset/data_pt_test/02-L2-G#4-140708_1103_mix_43\\\\970.pt', '../../Small_Dataset/data_pt_test/02-L2-G#4-140708_1103_mix_43\\\\971.pt', '../../Small_Dataset/data_pt_test/02-L2-G#4-140708_1103_mix_43\\\\972.pt', '../../Small_Dataset/data_pt_test/02-L2-G#4-140708_1103_mix_43\\\\973.pt', '../../Small_Dataset/data_pt_test/02-L2-G#4-140708_1103_mix_43\\\\974.pt', '../../Small_Dataset/data_pt_test/02-L2-G#4-140708_1103_mix_43\\\\975.pt', '../../Small_Dataset/data_pt_test/02-L2-G#4-140708_1103_mix_43\\\\976.pt', '../../Small_Dataset/data_pt_test/02-L2-G#4-140708_1103_mix_43\\\\977.pt', '../../Small_Dataset/data_pt_test/02-L2-G#4-140708_1103_mix_43\\\\978.pt', '../../Small_Dataset/data_pt_test/02-L2-G#4-140708_1103_mix_43\\\\979.pt', '../../Small_Dataset/data_pt_test/02-L2-G#4-140708_1103_mix_43\\\\98.pt', '../../Small_Dataset/data_pt_test/02-L2-G#4-140708_1103_mix_43\\\\980.pt', '../../Small_Dataset/data_pt_test/02-L2-G#4-140708_1103_mix_43\\\\981.pt', '../../Small_Dataset/data_pt_test/02-L2-G#4-140708_1103_mix_43\\\\982.pt', '../../Small_Dataset/data_pt_test/02-L2-G#4-140708_1103_mix_43\\\\983.pt', '../../Small_Dataset/data_pt_test/02-L2-G#4-140708_1103_mix_43\\\\984.pt', '../../Small_Dataset/data_pt_test/02-L2-G#4-140708_1103_mix_43\\\\985.pt', '../../Small_Dataset/data_pt_test/02-L2-G#4-140708_1103_mix_43\\\\986.pt', '../../Small_Dataset/data_pt_test/02-L2-G#4-140708_1103_mix_43\\\\987.pt', '../../Small_Dataset/data_pt_test/02-L2-G#4-140708_1103_mix_43\\\\988.pt', '../../Small_Dataset/data_pt_test/02-L2-G#4-140708_1103_mix_43\\\\989.pt', '../../Small_Dataset/data_pt_test/02-L2-G#4-140708_1103_mix_43\\\\99.pt', '../../Small_Dataset/data_pt_test/02-L2-G#4-140708_1103_mix_43\\\\990.pt', '../../Small_Dataset/data_pt_test/02-L2-G#4-140708_1103_mix_43\\\\991.pt', '../../Small_Dataset/data_pt_test/02-L2-G#4-140708_1103_mix_43\\\\992.pt', '../../Small_Dataset/data_pt_test/02-L2-G#4-140708_1103_mix_43\\\\993.pt', '../../Small_Dataset/data_pt_test/02-L2-G#4-140708_1103_mix_43\\\\994.pt', '../../Small_Dataset/data_pt_test/02-L2-G#4-140708_1103_mix_43\\\\995.pt', '../../Small_Dataset/data_pt_test/02-L2-G#4-140708_1103_mix_43\\\\996.pt', '../../Small_Dataset/data_pt_test/02-L2-G#4-140708_1103_mix_43\\\\997.pt', '../../Small_Dataset/data_pt_test/02-L2-G#4-140708_1103_mix_43\\\\998.pt', '../../Small_Dataset/data_pt_test/02-L2-G#4-140708_1103_mix_43\\\\999.pt']\n"
          ]
        }
      ],
      "source": [
        "import os\n",
        "import glob\n",
        "folder_dir= \"../../Small_Dataset/data_pt_test/\"\n",
        "song_name= \"02-L2-G#4-140708_1103_mix_43\"\n",
        "folder_path = os.path.join(folder_dir, song_name)\n",
        "# folder_path = \"/../../Small_Dataset/data_pt_test/02-L2-G#4-140708_1103_mix_14\"\n",
        "print(folder_path)\n",
        "# verifier si folder_path existe\n",
        "if os.path.exists(folder_path):\n",
        "    print(\"Le dossier existe\")\n",
        "\n",
        "ids = glob.glob(os.path.join(folder_path, '*.pt'))\n",
        "print(ids)\n"
      ]
    },
    {
      "cell_type": "code",
      "execution_count": null,
      "metadata": {},
      "outputs": [],
      "source": []
    },
    {
      "cell_type": "code",
      "execution_count": null,
      "metadata": {
        "id": "NSkYGL14PHsc"
      },
      "outputs": [],
      "source": [
        "!python /cnnsteph/cnn-onset-detection/get_data_stats.py"
      ]
    },
    {
      "cell_type": "code",
      "execution_count": null,
      "metadata": {
        "id": "3fYHSS9tEamy"
      },
      "outputs": [],
      "source": [
        "!python /cnnsteph/cnn-onset-detection/split.py"
      ]
    },
    {
      "cell_type": "code",
      "execution_count": null,
      "metadata": {
        "id": "_py6my3zPO56"
      },
      "outputs": [],
      "source": [
        "!python/cnnsteph/cnn-onset-detection/gen_data.py"
      ]
    },
    {
      "cell_type": "code",
      "execution_count": 10,
      "metadata": {
        "colab": {
          "base_uri": "https://localhost:8080/"
        },
        "id": "gelk4s6hPOSa",
        "outputId": "1a7e3b8a-e804-4fe6-9ad0-c03298181757"
      },
      "outputs": [
        {
          "name": "stdout",
          "output_type": "stream",
          "text": [
            "data\n",
            "model\n",
            "Cross-va\n",
            "Fraction of positive examples: 0.028494\n",
            "Generator done\n",
            "Training...\n",
            "Traceback (most recent call last):\n",
            "  File \"/usr/lib/python3.10/multiprocessing/connection.py\", line 931, in wait\n",
            "    ready = selector.select(timeout)\n",
            "  File \"/usr/lib/python3.10/selectors.py\", line 416, in select\n",
            "    fd_event_list = self._selector.poll(timeout)\n",
            "KeyboardInterrupt\n",
            "\n",
            "During handling of the above exception, another exception occurred:\n",
            "\n",
            "Traceback (most recent call last):\n",
            "  File \"/content/cnn-onset-detection/train.py\", line 142, in <module>\n",
            "    fold = int(sys.argv[1])  # cmd line argument\n",
            "  File \"/content/cnn-onset-detection/train.py\", line 84, in main\n",
            "    n_train = 0\n",
            "  File \"/usr/local/lib/python3.10/dist-packages/torch/utils/data/dataloader.py\", line 631, in __next__\n",
            "    data = self._next_data()\n",
            "  File \"/usr/local/lib/python3.10/dist-packages/torch/utils/data/dataloader.py\", line 1329, in _next_data\n",
            "    idx, data = self._get_data()\n",
            "  File \"/usr/local/lib/python3.10/dist-packages/torch/utils/data/dataloader.py\", line 1295, in _get_data\n",
            "    success, data = self._try_get_data()\n",
            "  File \"/usr/local/lib/python3.10/dist-packages/torch/utils/data/dataloader.py\", line 1133, in _try_get_data\n",
            "    data = self._data_queue.get(timeout=timeout)\n",
            "  File \"/usr/lib/python3.10/multiprocessing/queues.py\", line 113, in get\n",
            "    if not self._poll(timeout):\n",
            "  File \"/usr/lib/python3.10/multiprocessing/connection.py\", line 257, in poll\n",
            "    return self._poll(timeout)\n",
            "  File \"/usr/lib/python3.10/multiprocessing/connection.py\", line 424, in _poll\n",
            "    r = wait([self], timeout)\n",
            "  File \"/usr/lib/python3.10/multiprocessing/connection.py\", line 931, in wait\n",
            "    ready = selector.select(timeout)\n",
            "KeyboardInterrupt\n"
          ]
        }
      ],
      "source": [
        "!python /cnnsteph/cnn-onset-detection/train.py 0"
      ]
    },
    {
      "cell_type": "code",
      "execution_count": null,
      "metadata": {
        "id": "w0twowpsL1zA"
      },
      "outputs": [],
      "source": [
        "# prompt: run test.py\n",
        "/content/drive/MyDrive/Dataset_cnn/data_pt_test/03-L3-G3-140708_1103_segment_22/0.pt\n",
        "!cd cnn-onset-detection && python test.py 0\n"
      ]
    },
    {
      "cell_type": "code",
      "execution_count": 3,
      "metadata": {
        "id": "U2Ao7SVIL954"
      },
      "outputs": [
        {
          "name": "stdout",
          "output_type": "stream",
          "text": [
            "False\n"
          ]
        }
      ],
      "source": [
        "partiton = 'Small_Dataset/data_pt_test/02-L2-G#4-140708_1103_mix_31\\\\0.pt'\n",
        "labels =  'Small_Dataset/data_pt_test\\\\02-L2-G#4-140708_1103_mix_31\\\\0.pt' \n",
        "\n",
        "print(partiton==labels)"
      ]
    },
    {
      "cell_type": "code",
      "execution_count": null,
      "metadata": {},
      "outputs": [],
      "source": [
        "#avant\n",
        "'Small_Dataset/data_pt_test\\\\02-L2-G#4-140708_1103_mix_31\\\\0.pt'\n",
        "# apresw\n",
        "'Small_Dataset\\\\data_pt_test\\\\02-L2-G#4-140708_1103_mix_31\\\\0.pt'\n",
        "\n",
        "# labels\n",
        "'Small_Dataset/data_pt_test\\\\02-L2-G#4-140708_1103_mix_31\\\\0.pt': 0.0 "
      ]
    },
    {
      "cell_type": "markdown",
      "metadata": {
        "id": "EjpoCWrs9mRL"
      },
      "source": [
        "# Inference\n"
      ]
    },
    {
      "cell_type": "code",
      "execution_count": null,
      "metadata": {
        "id": "B_8tvOifDW8E"
      },
      "outputs": [],
      "source": [
        "%cd /content/cnn-onset-detection"
      ]
    },
    {
      "cell_type": "code",
      "execution_count": null,
      "metadata": {
        "id": "566j_RtJ9oDr"
      },
      "outputs": [],
      "source": [
        "import os\n",
        "import torch\n",
        "import librosa\n",
        "import numpy as np\n",
        "import matplotlib.pyplot as plt\n",
        "from utils import onsetCNN\n",
        "\n",
        "def load_model(model_path, device):\n",
        "    model = onsetCNN().double().to(device)\n",
        "    model.load_state_dict(torch.load(model_path, map_location=device))\n",
        "    model.eval()\n",
        "    return model\n",
        "\n",
        "def preprocess_audio(audio_path, sr=44100, n_fft=1024, hop_length=441, n_mels=80, fmin=27.5, fmax=16000):\n",
        "    print(\"preprocessing\")\n",
        "    y, sr = librosa.load(audio_path, sr=sr)\n",
        "    mel_spectrogram1 = librosa.feature.melspectrogram(y=y, sr=sr, n_fft=n_fft, hop_length=hop_length, n_mels=n_mels, fmin=fmin, fmax=fmax)\n",
        "    mel_spectrogram2 = librosa.feature.melspectrogram(y=y, sr=sr, n_fft=2048, hop_length=hop_length, n_mels=n_mels, fmin=fmin, fmax=16000)\n",
        "    mel_spectrogram3 = librosa.feature.melspectrogram(y=y, sr=sr, n_fft=4096, hop_length=hop_length, n_mels=n_mels, fmin=27.5, fmax=16000)\n",
        "\n",
        "    mel_spectrogram1_db = librosa.power_to_db(mel_spectrogram1, ref=np.max)\n",
        "    mel_spectrogram2_db = librosa.power_to_db(mel_spectrogram2, ref=np.max)\n",
        "    mel_spectrogram3_db = librosa.power_to_db(mel_spectrogram3, ref=np.max)\n",
        "\n",
        "    return mel_spectrogram1_db, mel_spectrogram2_db, mel_spectrogram3_db\n",
        "\n",
        "def predict_onsets(model, mel_spectrogram1_db, mel_spectrogram2_db, mel_spectrogram3_db, device, hop_length=441, sr=44100):\n",
        "    contextlen = 7  # +- frames\n",
        "    duration = 2 * contextlen + 1\n",
        "    segment_length = duration  # As used during training\n",
        "    num_segments = mel_spectrogram1_db.shape[1] - segment_length + 1\n",
        "\n",
        "    onsets = np.zeros(mel_spectrogram1_db.shape[1])\n",
        "\n",
        "    with torch.no_grad():\n",
        "        for i in range(num_segments):\n",
        "            segment1 = mel_spectrogram1_db[:, i:i+segment_length]\n",
        "            segment2 = mel_spectrogram2_db[:, i:i+segment_length]\n",
        "            segment3 = mel_spectrogram3_db[:, i:i+segment_length]\n",
        "            segment = np.stack([segment1, segment2, segment3], axis=0)\n",
        "            segment = torch.tensor(segment, dtype=torch.float64).unsqueeze(0).to(device)  # Add batch dimension\n",
        "            prediction = model(segment).squeeze().cpu().numpy()\n",
        "            onsets[i:i+segment_length] += prediction\n",
        "    onsets = onsets * 10\n",
        "    onsets = np.where(onsets > 0.02, 1, 0)\n",
        "    return onsets\n",
        "\n",
        "def plot_onsets(onsets, audio_path, sr=44100, hop_length=441):\n",
        "    y, sr = librosa.load(audio_path, sr=sr)\n",
        "    times = np.arange(len(y)) / sr\n",
        "\n",
        "    plt.figure(figsize=(14, 8))\n",
        "\n",
        "    plt.subplot(2, 1, 1)\n",
        "    plt.plot(times, y, label='Waveform')\n",
        "    plt.title('Audio Waveform')\n",
        "    plt.xlabel('Time (s)')\n",
        "    plt.ylabel('Amplitude')\n",
        "    plt.legend()\n",
        "\n",
        "    onset_times = np.arange(len(onsets)) * hop_length / sr\n",
        "\n",
        "    plt.subplot(2, 1, 2)\n",
        "    plt.plot(onset_times, onsets, label='Onset Predictions')\n",
        "\n",
        "    plt.title('Onset Predictions')\n",
        "    plt.xlabel('Time (s)')\n",
        "    plt.ylabel('Onset Confidence')\n",
        "    plt.legend()\n",
        "\n",
        "    plt.tight_layout()\n",
        "    plt.show()\n",
        "\n",
        "def main(audio_path, model_path,plot=False):\n",
        "    device = torch.device(\"cuda:0\" if torch.cuda.is_available() else \"cpu\")\n",
        "    model = load_model(model_path, device)\n",
        "    mel_spectrogram1_db, mel_spectrogram2_db, mel_spectrogram3_db = preprocess_audio(audio_path)\n",
        "    print(\"preprocessed\")\n",
        "    onsets = predict_onsets(model, mel_spectrogram1_db, mel_spectrogram2_db, mel_spectrogram3_db, device)\n",
        "    print(\"Onsets detection done\")\n",
        "    # save onsets in a file .txt\n",
        "    save_path = os.path.join(onsets_dir, file_name.replace('.wav', '_onsets.txt'))\n",
        "    print(\"Onsets save to : \" , save_path)\n",
        "    np.savetxt(save_path, onsets)\n",
        "    if plot==True :\n",
        "      plot_onsets(onsets, audio_path)\n",
        "\n",
        "\n",
        "if __name__ == \"__main__\":\n",
        "    audio_dir = '/content/drive/MyDrive/Rakotozafi'\n",
        "    model_path = '/content/drive/MyDrive/wav/saved_model_0_49.pt'\n",
        "\n",
        "     # Créer le dossier Onsets s'il n'existe pas\n",
        "    onsets_dir = os.path.join(audio_dir, 'Onsets')\n",
        "    if not os.path.exists(onsets_dir):\n",
        "        os.makedirs(onsets_dir)\n",
        "\n",
        "    for file_name in os.listdir(audio_dir):\n",
        "        if file_name.endswith('.wav'):\n",
        "             print(file_name)\n",
        "             audio_path = os.path.join(audio_dir, file_name)\n",
        "             main(audio_path, model_path)\n"
      ]
    },
    {
      "cell_type": "code",
      "execution_count": null,
      "metadata": {
        "id": "IZYmt-oGCUBY"
      },
      "outputs": [],
      "source": []
    }
  ],
  "metadata": {
    "accelerator": "GPU",
    "colab": {
      "gpuType": "L4",
      "machine_shape": "hm",
      "provenance": []
    },
    "kernelspec": {
      "display_name": "Python 3",
      "name": "python3"
    },
    "language_info": {
      "codemirror_mode": {
        "name": "ipython",
        "version": 3
      },
      "file_extension": ".py",
      "mimetype": "text/x-python",
      "name": "python",
      "nbconvert_exporter": "python",
      "pygments_lexer": "ipython3",
      "version": "3.11.3"
    }
  },
  "nbformat": 4,
  "nbformat_minor": 0
}
